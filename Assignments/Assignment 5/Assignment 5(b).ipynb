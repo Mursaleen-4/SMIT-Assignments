{
 "cells": [
  {
   "cell_type": "markdown",
   "id": "275b3e84-22a0-4c88-952b-55c4290b82b7",
   "metadata": {},
   "source": [
    "Task1:\n",
    "You need to write a function in python that return all such numbers which are\n",
    "divisible by 7 but are not a multiple of 5, between 2000 and 3200 (both included).\n",
    "Return the obtained numbers in a comma-separated sequence on a single line."
   ]
  },
  {
   "cell_type": "code",
   "execution_count": null,
   "id": "6ba457a5-945b-42d6-b70b-4a320baad1cd",
   "metadata": {},
   "outputs": [],
   "source": [
    "def find_numbers():\n",
    "    result = [str(x) for x in range(2000, 3201) if x % 7 == 0 and x % 5 != 0]\n",
    "    return \",\".join(result)"
   ]
  },
  {
   "cell_type": "code",
   "execution_count": null,
   "id": "eda4a431-336d-4ce3-a2cf-ce5b803da1f2",
   "metadata": {},
   "outputs": [],
   "source": [
    "print(find_numbers())"
   ]
  },
  {
   "cell_type": "markdown",
   "id": "ec132a17-909b-4af8-a72a-ea50ba7f1aa9",
   "metadata": {},
   "source": [
    "Task2:\n",
    "You need code a function that calculates and returns the value according to the\n",
    "given formula:\n",
    "P = Square root of [(2 * A * B)/C]\n",
    "Following are the fixed values of A and B:\n",
    "A is 50. B is 30.\n",
    "The values of the literal C should be taken as console input to your program in a\n",
    "comma-separated sequence.\n",
    "Example\n",
    "Let us assume the following comma separated input sequence is given to the\n",
    "program:\n",
    "100,150,180\n",
    "The output of the program should be:\n",
    "18,22,24"
   ]
  },
  {
   "cell_type": "code",
   "execution_count": 1,
   "id": "7c37db49-2105-4071-b8b0-6802710723cf",
   "metadata": {},
   "outputs": [],
   "source": [
    "import math\n",
    "\n",
    "def calculate_p(c_values):\n",
    "    A = 50\n",
    "    B = 30\n",
    "    result = [str(int(math.sqrt((2 * A * B) / int(C)))) for C in c_values]\n",
    "    return \",\".join(result)"
   ]
  },
  {
   "cell_type": "code",
   "execution_count": 3,
   "id": "40f8fd52-7cc2-440b-9d28-6552c144499a",
   "metadata": {},
   "outputs": [
    {
     "name": "stdin",
     "output_type": "stream",
     "text": [
      "Enter comma-separated values for C:  45,3,34\n"
     ]
    }
   ],
   "source": [
    "c_values = input(\"Enter comma-separated values for C: \").split(\",\")"
   ]
  },
  {
   "cell_type": "code",
   "execution_count": 5,
   "id": "95562ebf-2601-42fc-b7a9-bdc6a48cf007",
   "metadata": {},
   "outputs": [
    {
     "name": "stdout",
     "output_type": "stream",
     "text": [
      "8,31,9\n"
     ]
    }
   ],
   "source": [
    "print(calculate_p(c_values))"
   ]
  },
  {
   "cell_type": "markdown",
   "id": "f225de86-1ead-4536-8fea-43294dc19dc4",
   "metadata": {},
   "source": [
    "Task3:\n",
    "You need to write a function that takes a comma separated sequence of words as\n",
    "input and prints the words in a comma-separated sequence after sorting them\n",
    "alphabetically.\n",
    "Suppose the following input is supplied to the program:\n",
    "without,hello,bag,world\n",
    "Then, the output should be:\n",
    "bag,hello,without,world"
   ]
  },
  {
   "cell_type": "code",
   "execution_count": 8,
   "id": "158a3c4e-fe25-41fc-bf98-75769cf687dd",
   "metadata": {},
   "outputs": [],
   "source": [
    "def sort_words(sequence):\n",
    "    words = sequence.split(\",\")\n",
    "    return \",\".join(sorted(words))"
   ]
  },
  {
   "cell_type": "code",
   "execution_count": 10,
   "id": "165b3933-b8f4-4a42-a139-4076364fa096",
   "metadata": {},
   "outputs": [
    {
     "name": "stdin",
     "output_type": "stream",
     "text": [
      "Enter comma-separated words:  pakistan,india,australia\n"
     ]
    },
    {
     "name": "stdout",
     "output_type": "stream",
     "text": [
      "australia,india,pakistan\n"
     ]
    }
   ],
   "source": [
    "sequence = input(\"Enter comma-separated words: \")\n",
    "print(sort_words(sequence))"
   ]
  },
  {
   "cell_type": "markdown",
   "id": "22d3983f-4478-419e-a6d8-715b38049036",
   "metadata": {},
   "source": [
    "Task4:\n",
    "You need to write a program that takes sequence of lines as input and prints the\n",
    "lines after making all characters in the sentence capitalized.\n",
    "Suppose the following input is supplied to the program:\n",
    "Hello world\n",
    "Practice makes perfect\n",
    "Then, the output should be:\n",
    "\n",
    "HELLO WORLD\n",
    "PRACTICE MAKES PERFECT"
   ]
  },
  {
   "cell_type": "code",
   "execution_count": 15,
   "id": "3801b936-4006-411b-8c88-44f50fad7ccc",
   "metadata": {},
   "outputs": [],
   "source": [
    "def capitalize_lines():\n",
    "    lines = []\n",
    "    while True:\n",
    "        line = input(\"Enter a line (or press Enter to stop): \")\n",
    "        if not line:\n",
    "            break\n",
    "        lines.append(line.upper())\n",
    "    return \"\\n\".join(lines)"
   ]
  },
  {
   "cell_type": "code",
   "execution_count": 17,
   "id": "a8a0987d-7007-463d-a6cb-aecc27fd6976",
   "metadata": {},
   "outputs": [
    {
     "name": "stdin",
     "output_type": "stream",
     "text": [
      "Enter a line (or press Enter to stop):  i study at saylani\n",
      "Enter a line (or press Enter to stop):  i work as a freelancer\n",
      "Enter a line (or press Enter to stop):  \n"
     ]
    },
    {
     "name": "stdout",
     "output_type": "stream",
     "text": [
      "I STUDY AT SAYLANI\n",
      "I WORK AS A FREELANCER\n"
     ]
    }
   ],
   "source": [
    "print(capitalize_lines())\n"
   ]
  },
  {
   "cell_type": "markdown",
   "id": "6a24a62f-65cd-452f-a4d2-a7b22607f4c7",
   "metadata": {},
   "source": [
    "Task5:\n",
    "You need to write a function that counts the number of vowels in a given\n",
    "sentence as input from console.\n",
    "Suppose the following input is supplied to the program:\n",
    "Hello world\n",
    "Practice makes perfect\n",
    "Then, the output should be:\n",
    "a appeared 2 times\n",
    "e appeared 5 times\n",
    "i appeared 1 time\n",
    "o appeared 2 times\n",
    "u appeared 0 time\n",
    "PRACTICE MAKES PERFECT"
   ]
  },
  {
   "cell_type": "code",
   "execution_count": 20,
   "id": "6903cb7b-b738-4cb2-a4a1-788aa701f0ba",
   "metadata": {},
   "outputs": [],
   "source": [
    "def count_vowels(sentence):\n",
    "    vowels = \"aeiou\"\n",
    "    counts = {v: sentence.lower().count(v) for v in vowels}\n",
    "    for v, c in counts.items():\n",
    "        print(f\"{v} appeared {c} times\")"
   ]
  },
  {
   "cell_type": "code",
   "execution_count": 22,
   "id": "9e11ca03-912d-40af-bd01-7e6281d9476d",
   "metadata": {},
   "outputs": [
    {
     "name": "stdin",
     "output_type": "stream",
     "text": [
      "Enter a sentence:  why are u laughing\n"
     ]
    },
    {
     "name": "stdout",
     "output_type": "stream",
     "text": [
      "a appeared 2 times\n",
      "e appeared 1 times\n",
      "i appeared 1 times\n",
      "o appeared 0 times\n",
      "u appeared 2 times\n"
     ]
    }
   ],
   "source": [
    "sentence = input(\"Enter a sentence: \")\n",
    "count_vowels(sentence)"
   ]
  },
  {
   "cell_type": "markdown",
   "id": "5e6b223a-f45b-46a9-a166-7c2a3f7037d4",
   "metadata": {},
   "source": [
    "Task6:\n",
    "You need write a function that traces and makes a list of all such numbers\n",
    "from1000 to 3000 in which all the digits are even numbers."
   ]
  },
  {
   "cell_type": "code",
   "execution_count": 25,
   "id": "3bd9a735-1647-4dcb-a2c2-a6b62da67d42",
   "metadata": {},
   "outputs": [],
   "source": [
    "def even_digit_numbers():\n",
    "    result = [str(x) for x in range(1000, 3001) if all(int(d) % 2 == 0 for d in str(x))]\n",
    "    return result"
   ]
  },
  {
   "cell_type": "code",
   "execution_count": 27,
   "id": "7875f473-92ba-4570-a0e4-a579f36f6aac",
   "metadata": {},
   "outputs": [
    {
     "name": "stdout",
     "output_type": "stream",
     "text": [
      "2000,2002,2004,2006,2008,2020,2022,2024,2026,2028,2040,2042,2044,2046,2048,2060,2062,2064,2066,2068,2080,2082,2084,2086,2088,2200,2202,2204,2206,2208,2220,2222,2224,2226,2228,2240,2242,2244,2246,2248,2260,2262,2264,2266,2268,2280,2282,2284,2286,2288,2400,2402,2404,2406,2408,2420,2422,2424,2426,2428,2440,2442,2444,2446,2448,2460,2462,2464,2466,2468,2480,2482,2484,2486,2488,2600,2602,2604,2606,2608,2620,2622,2624,2626,2628,2640,2642,2644,2646,2648,2660,2662,2664,2666,2668,2680,2682,2684,2686,2688,2800,2802,2804,2806,2808,2820,2822,2824,2826,2828,2840,2842,2844,2846,2848,2860,2862,2864,2866,2868,2880,2882,2884,2886,2888\n"
     ]
    }
   ],
   "source": [
    "print(\",\".join(even_digit_numbers()))"
   ]
  },
  {
   "cell_type": "markdown",
   "id": "80f86e82-a0d7-429e-b7e8-e093f21ae6b0",
   "metadata": {},
   "source": [
    "Task7:\n",
    "You need to write a code which accepts a sequence of comma separated 4 digit\n",
    "binary numbers as its input and then check whether they are divisible by 5 or not.\n",
    "The numbers that are divisible by 5 are to be printed in a comma separated\n",
    "sequence.\n",
    "Example:\n",
    "0100,0011,1010,1001\n",
    "Then the output should be:\n",
    "1010\n",
    "Reference: https://www.datacamp.com/.../python-data-type-conversion"
   ]
  },
  {
   "cell_type": "code",
   "execution_count": 30,
   "id": "0f31f730-528d-4afc-b975-5f6a1cde7fe8",
   "metadata": {},
   "outputs": [],
   "source": [
    "def divisible_by_5(binary_numbers):\n",
    "    result = [num for num in binary_numbers if int(num, 2) % 5 == 0]\n",
    "    return \",\".join(result)"
   ]
  },
  {
   "cell_type": "code",
   "execution_count": 32,
   "id": "ba14db3a-d755-4679-ad8f-44bcc96acdb3",
   "metadata": {},
   "outputs": [
    {
     "name": "stdin",
     "output_type": "stream",
     "text": [
      "Enter comma-separated 4-digit binary numbers:  0010,1100,1010,1001\n"
     ]
    },
    {
     "name": "stdout",
     "output_type": "stream",
     "text": [
      "1010\n"
     ]
    }
   ],
   "source": [
    "binary_numbers = input(\"Enter comma-separated 4-digit binary numbers: \").split(\",\")\n",
    "print(divisible_by_5(binary_numbers))\n"
   ]
  },
  {
   "cell_type": "markdown",
   "id": "bad2890f-2584-482e-83c7-477ba00a9c1a",
   "metadata": {},
   "source": [
    "Task8:\n",
    "Write a program that accepts a sentence and calculate the number of letters and\n",
    "digits.\n",
    "Suppose the following input is supplied to the program:\n",
    "hello world! 123\n",
    "Then, the output should be:\n",
    "LETTERS 10\n",
    "DIGITS 3"
   ]
  },
  {
   "cell_type": "code",
   "execution_count": 51,
   "id": "d701f1a2-1d6b-4d66-a6c4-21afb934e339",
   "metadata": {},
   "outputs": [
    {
     "name": "stdin",
     "output_type": "stream",
     "text": [
      "Enter a sentence:  im a student at saylani doing ai course 6\n"
     ]
    },
    {
     "name": "stdout",
     "output_type": "stream",
     "text": [
      "LETTERS 32\n",
      "DIGITS 1\n"
     ]
    }
   ],
   "source": [
    "def count_letters_digits(sentence):\n",
    "    letters = sum(c.isalpha() for c in sentence)\n",
    "    digits = sum(c.isdigit() for c in sentence)\n",
    "    print(f\"LETTERS {letters}\")\n",
    "    print(f\"DIGITS {digits}\")\n",
    "\n",
    "sentence = input(\"Enter a sentence: \")\n",
    "count_letters_digits(sentence)\n"
   ]
  },
  {
   "cell_type": "code",
   "execution_count": null,
   "id": "05aebc7f-efc5-4aea-959a-1bd7c4fa4065",
   "metadata": {},
   "outputs": [],
   "source": []
  }
 ],
 "metadata": {
  "kernelspec": {
   "display_name": "Python 3 (ipykernel)",
   "language": "python",
   "name": "python3"
  },
  "language_info": {
   "codemirror_mode": {
    "name": "ipython",
    "version": 3
   },
   "file_extension": ".py",
   "mimetype": "text/x-python",
   "name": "python",
   "nbconvert_exporter": "python",
   "pygments_lexer": "ipython3",
   "version": "3.12.7"
  }
 },
 "nbformat": 4,
 "nbformat_minor": 5
}
