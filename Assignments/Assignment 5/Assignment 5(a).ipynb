{
 "cells": [
  {
   "cell_type": "markdown",
   "id": "3e06f860-65c2-4bc2-bf97-dc553a20d783",
   "metadata": {},
   "source": [
    "1. Write a Python function to find the maximum of three numbers."
   ]
  },
  {
   "cell_type": "code",
   "execution_count": 3,
   "id": "7cadfe6a-0bff-4f07-804e-df6726c2610c",
   "metadata": {},
   "outputs": [],
   "source": [
    "def max_of_three(a, b, c):\n",
    "    return max(a, b, c)"
   ]
  },
  {
   "cell_type": "code",
   "execution_count": 5,
   "id": "50350688-0bc6-4127-925c-2f1b758ccc53",
   "metadata": {},
   "outputs": [
    {
     "data": {
      "text/plain": [
       "67"
      ]
     },
     "execution_count": 5,
     "metadata": {},
     "output_type": "execute_result"
    }
   ],
   "source": [
    "max_of_three(42,56,67)"
   ]
  },
  {
   "cell_type": "markdown",
   "id": "c5cfe89d-0abf-4188-bafb-a923a7c4ad02",
   "metadata": {},
   "source": [
    "2. Write a Python function to sum all the numbers in a list.\n",
    "Sample List : (8, 2, 3, 0, 7)\n",
    "Expected Output : 20"
   ]
  },
  {
   "cell_type": "code",
   "execution_count": 8,
   "id": "18339ee3-625a-45a6-8072-8f82006b1ec6",
   "metadata": {},
   "outputs": [],
   "source": [
    "def sum_of_list(lst):\n",
    "    return sum(lst)"
   ]
  },
  {
   "cell_type": "code",
   "execution_count": 22,
   "id": "9cef08d2-17d3-4dba-b3d8-5fad0c323370",
   "metadata": {},
   "outputs": [
    {
     "name": "stdout",
     "output_type": "stream",
     "text": [
      "20\n"
     ]
    }
   ],
   "source": [
    "sample_list = [8, 2, 3, 0, 7]\n",
    "print(sum_of_list(sample_list))"
   ]
  },
  {
   "cell_type": "markdown",
   "id": "4274ebc6-a3a3-458b-b6ea-f99e506315dc",
   "metadata": {},
   "source": [
    "3. Write a Python function to multiply all the numbers in a list"
   ]
  },
  {
   "cell_type": "code",
   "execution_count": 25,
   "id": "bff338bd-8831-4584-aa3d-b06b48d0625a",
   "metadata": {},
   "outputs": [],
   "source": [
    "def multiply_list(lst):\n",
    "    result = 1\n",
    "    for num in lst:\n",
    "        result *= num\n",
    "    return result"
   ]
  },
  {
   "cell_type": "code",
   "execution_count": 29,
   "id": "b682d7f6-92dc-4543-bedd-83a9ca04ee2b",
   "metadata": {},
   "outputs": [
    {
     "name": "stdout",
     "output_type": "stream",
     "text": [
      "12096\n"
     ]
    }
   ],
   "source": [
    "sample_list = [9, 2, 3, 4, 56]\n",
    "print(multiply_list(sample_list))"
   ]
  },
  {
   "cell_type": "markdown",
   "id": "51f109f3-3f98-4489-9148-e1be44f9b21b",
   "metadata": {},
   "source": [
    "4. Write a Python program to reverse a string"
   ]
  },
  {
   "cell_type": "code",
   "execution_count": 34,
   "id": "e2c5856a-5709-4a35-8909-a8ace720eabe",
   "metadata": {},
   "outputs": [],
   "source": [
    "def reverse_string(s):\n",
    "    return s[::-1]"
   ]
  },
  {
   "cell_type": "code",
   "execution_count": 38,
   "id": "bf639dae-009b-497c-98ba-655714e51c5a",
   "metadata": {},
   "outputs": [
    {
     "name": "stdout",
     "output_type": "stream",
     "text": [
      "natsikaP\n"
     ]
    }
   ],
   "source": [
    "sample_string = \"Pakistan\"\n",
    "print(reverse_string(sample_string)) "
   ]
  },
  {
   "cell_type": "markdown",
   "id": "f5288bb4-40c8-4dbf-981b-6fd734cebcb8",
   "metadata": {},
   "source": [
    "5. Write a Python function to calculate the factorial of a number"
   ]
  },
  {
   "cell_type": "code",
   "execution_count": 41,
   "id": "02bf72ae-357b-4e22-b4f5-ae7f4456df71",
   "metadata": {},
   "outputs": [],
   "source": [
    "def factorial(n):\n",
    "    if n == 0 or n == 1:\n",
    "        return 1\n",
    "    return n * factorial(n - 1)"
   ]
  },
  {
   "cell_type": "code",
   "execution_count": 45,
   "id": "0f51ff35-bcf1-43a0-820a-7a5c0e3a5546",
   "metadata": {},
   "outputs": [
    {
     "name": "stdout",
     "output_type": "stream",
     "text": [
      "40320\n"
     ]
    }
   ],
   "source": [
    "print(factorial(8))  "
   ]
  },
  {
   "cell_type": "markdown",
   "id": "17630675-4295-40a9-9079-5948ce6115c1",
   "metadata": {},
   "source": [
    "6. Write a Python function to check whether a number falls within a given range"
   ]
  },
  {
   "cell_type": "code",
   "execution_count": 48,
   "id": "5b9d0a44-b987-402d-a231-65aae1ec823c",
   "metadata": {},
   "outputs": [],
   "source": [
    "def in_range(num, start, end):\n",
    "    return start <= num <= end"
   ]
  },
  {
   "cell_type": "code",
   "execution_count": 52,
   "id": "f4e1ee83-dfd3-4020-a26e-237d8d58a406",
   "metadata": {},
   "outputs": [
    {
     "name": "stdout",
     "output_type": "stream",
     "text": [
      "False\n"
     ]
    }
   ],
   "source": [
    "print(in_range(3, 7, 23))"
   ]
  },
  {
   "cell_type": "markdown",
   "id": "ed77e715-f7c1-48bd-843d-401a2bfa60b9",
   "metadata": {},
   "source": [
    "7. Write a Python function that counts upper and lower case letters in a string"
   ]
  },
  {
   "cell_type": "code",
   "execution_count": 61,
   "id": "9eacf4f5-0beb-4002-b6cb-f79490129e6a",
   "metadata": {},
   "outputs": [],
   "source": [
    "def count_case(s):\n",
    "    upper = sum(1 for char in s if char.isupper())\n",
    "    lower = sum(1 for char in s if char.islower())\n",
    "    return {\"Upper\": upper, \"Lower\": lower}"
   ]
  },
  {
   "cell_type": "code",
   "execution_count": 69,
   "id": "799a4f99-034e-4326-9735-ef7b1e5edcc0",
   "metadata": {},
   "outputs": [
    {
     "name": "stdout",
     "output_type": "stream",
     "text": [
      "No. of Upper case characters: 2\n",
      "No. of Lower case characters: 14\n"
     ]
    }
   ],
   "source": [
    "sample_string = 'Pakistan Zindabad'\n",
    "result = count_case(sample_string)\n",
    "print(f\"No. of Upper case characters: {result['Upper']}\") \n",
    "print(f\"No. of Lower case characters: {result['Lower']}\")"
   ]
  },
  {
   "cell_type": "markdown",
   "id": "01f78ec2-06c2-403b-8c79-fd4be1c49c88",
   "metadata": {},
   "source": [
    "8. Write a Python function to return a list of distinct elements"
   ]
  },
  {
   "cell_type": "code",
   "execution_count": 72,
   "id": "ea3d996c-547d-48fb-b9b4-a65483e69996",
   "metadata": {},
   "outputs": [],
   "source": [
    "def unique_list(lst):\n",
    "    return list(set(lst))"
   ]
  },
  {
   "cell_type": "code",
   "execution_count": 82,
   "id": "7f75b5f8-ba9a-4817-ad13-8925650f82e5",
   "metadata": {},
   "outputs": [
    {
     "name": "stdout",
     "output_type": "stream",
     "text": [
      "[1, 2, 3, 4, 5, 6]\n"
     ]
    }
   ],
   "source": [
    "sample_list = [1,1,1,1,2, 3,3, 3, 4,4,5,5,6]\n",
    "print(unique_list(sample_list))"
   ]
  },
  {
   "cell_type": "markdown",
   "id": "d5a8e7e3-a38a-42ef-bec2-cb389ea2543a",
   "metadata": {},
   "source": [
    "9. Write a Python function to check whether a number is prime"
   ]
  },
  {
   "cell_type": "code",
   "execution_count": 86,
   "id": "711a6c24-79f7-4c78-afd5-d13bb7bdfac8",
   "metadata": {},
   "outputs": [],
   "source": [
    "def is_prime(num):\n",
    "    if num <= 1:\n",
    "        return False\n",
    "    for i in range(2, int(num**0.5) + 1):\n",
    "        if num % i == 0:\n",
    "            return False\n",
    "    return True"
   ]
  },
  {
   "cell_type": "code",
   "execution_count": 88,
   "id": "e7b41223-5579-42be-8ab7-06512873577d",
   "metadata": {},
   "outputs": [
    {
     "name": "stdout",
     "output_type": "stream",
     "text": [
      "True\n",
      "False\n"
     ]
    }
   ],
   "source": [
    "print(is_prime(7))\n",
    "print(is_prime(10))"
   ]
  },
  {
   "cell_type": "markdown",
   "id": "f5012f14-b381-49b9-82d2-04ec2e46a263",
   "metadata": {},
   "source": [
    "10. Write a Python program to print the even numbers from a given list"
   ]
  },
  {
   "cell_type": "code",
   "execution_count": 97,
   "id": "5e6c47ab-f627-4ebd-972c-e39e221c9d2a",
   "metadata": {},
   "outputs": [],
   "source": [
    "def even_numbers(lst):\n",
    "    return [num for num in lst if num % 2 == 0]"
   ]
  },
  {
   "cell_type": "code",
   "execution_count": 99,
   "id": "8ea77433-01c3-49ae-b7e3-7e26fda34f54",
   "metadata": {},
   "outputs": [
    {
     "name": "stdout",
     "output_type": "stream",
     "text": [
      "[2, 4, 6, 8]\n"
     ]
    }
   ],
   "source": [
    "sample_list = [1, 2, 3, 4, 5, 6, 7, 8, 9]\n",
    "print(even_numbers(sample_list))"
   ]
  },
  {
   "cell_type": "markdown",
   "id": "fbf9e299-9c03-4dbe-a50b-34908b442514",
   "metadata": {},
   "source": [
    "11. Write a Python function to check whether a number is \"Perfect\""
   ]
  },
  {
   "cell_type": "code",
   "execution_count": 91,
   "id": "1fc6abda-5269-4958-8faf-34bff8aedfcc",
   "metadata": {},
   "outputs": [],
   "source": [
    "def is_perfect(num):\n",
    "    divisors = [i for i in range(1, num) if num % i == 0]\n",
    "    return sum(divisors) == num"
   ]
  },
  {
   "cell_type": "code",
   "execution_count": 113,
   "id": "7e45dd87-75dd-4f32-b1b8-d14f044fdd7c",
   "metadata": {},
   "outputs": [
    {
     "name": "stdout",
     "output_type": "stream",
     "text": [
      "True\n",
      "False\n",
      "False\n"
     ]
    }
   ],
   "source": [
    "print(is_perfect(28))\n",
    "print(is_perfect(18)) \n",
    "print(is_perfect(2))"
   ]
  },
  {
   "cell_type": "markdown",
   "id": "5bed3218-a65b-4a26-a5fc-7d0653affc24",
   "metadata": {},
   "source": [
    "12. Write a Python function to check if a string is a palindrome"
   ]
  },
  {
   "cell_type": "code",
   "execution_count": 116,
   "id": "176f036e-19e9-4363-b53d-7e82a3a48ab4",
   "metadata": {},
   "outputs": [],
   "source": [
    "def is_palindrome(s):\n",
    "    s = s.replace(\" \", \"\").lower()\n",
    "    return s == s[::-1]"
   ]
  },
  {
   "cell_type": "code",
   "execution_count": 122,
   "id": "b062628f-cd59-4982-801c-58c52a88ac6f",
   "metadata": {},
   "outputs": [
    {
     "name": "stdout",
     "output_type": "stream",
     "text": [
      "True\n",
      "False\n",
      "False\n"
     ]
    }
   ],
   "source": [
    "print(is_palindrome(\"rotator\"))\n",
    "print(is_palindrome(\"walikum assalaam\"))\n",
    "print(is_palindrome(\"saylani\")) "
   ]
  },
  {
   "cell_type": "code",
   "execution_count": null,
   "id": "9c9464d6-d7be-4342-8783-2f8ba8b71c33",
   "metadata": {},
   "outputs": [],
   "source": []
  }
 ],
 "metadata": {
  "kernelspec": {
   "display_name": "Python 3 (ipykernel)",
   "language": "python",
   "name": "python3"
  },
  "language_info": {
   "codemirror_mode": {
    "name": "ipython",
    "version": 3
   },
   "file_extension": ".py",
   "mimetype": "text/x-python",
   "name": "python",
   "nbconvert_exporter": "python",
   "pygments_lexer": "ipython3",
   "version": "3.12.7"
  }
 },
 "nbformat": 4,
 "nbformat_minor": 5
}
