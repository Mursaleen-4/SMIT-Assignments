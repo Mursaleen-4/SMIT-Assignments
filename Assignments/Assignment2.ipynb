{
 "cells": [
  {
   "cell_type": "code",
   "execution_count": 1,
   "id": "cc57a2b0-8d3f-4b52-abdd-d19ec47a9082",
   "metadata": {},
   "outputs": [
    {
     "name": "stdin",
     "output_type": "stream",
     "text": [
      "Enter the length of the rectangle:  56\n",
      "Enter the width of the rectangle:  4\n"
     ]
    },
    {
     "name": "stdout",
     "output_type": "stream",
     "text": [
      "The area of the rectangle is: 224.0\n"
     ]
    }
   ],
   "source": [
    "#Area of a rectangle\n",
    "length = float(input(\"Enter the length of the rectangle: \"))\n",
    "width = float(input(\"Enter the width of the rectangle: \"))\n",
    "area = length * width\n",
    "print(f\"The area of the rectangle is: {area}\")"
   ]
  },
  {
   "cell_type": "code",
   "execution_count": 2,
   "id": "c34a0016-09ea-4abd-a0c8-747e31e68263",
   "metadata": {},
   "outputs": [
    {
     "name": "stdin",
     "output_type": "stream",
     "text": [
      "Enter the radius of the circle:  4\n"
     ]
    },
    {
     "name": "stdout",
     "output_type": "stream",
     "text": [
      "The circumference of the rectangle is: 25.12\n"
     ]
    }
   ],
   "source": [
    "#Circumference of a Circle\n",
    "radius = float(input(\"Enter the radius of the circle: \"))\n",
    "circumference=2*3.14*radius\n",
    "print(f\"The circumference of the rectangle is: {circumference}\")\n",
    "\n"
   ]
  },
  {
   "cell_type": "code",
   "execution_count": 3,
   "id": "951af0d2-8b9b-4bd5-8376-de669976fa7c",
   "metadata": {},
   "outputs": [
    {
     "name": "stdin",
     "output_type": "stream",
     "text": [
      "Enter the principle:  45\n",
      "Enter the rate:  54\n",
      "Enter the time:  2\n"
     ]
    },
    {
     "name": "stdout",
     "output_type": "stream",
     "text": [
      "The Simple Interest of the rectangle is: 4860.0\n"
     ]
    }
   ],
   "source": [
    "# Simple Interest\n",
    "principle = float(input(\"Enter the principle: \"))\n",
    "rate = float(input(\"Enter the rate: \"))\n",
    "time = float(input(\"Enter the time: \"))\n",
    "Simple_Interest=principle*rate*time\n",
    "print(f\"The Simple Interest of the rectangle is: {Simple_Interest}\") \n",
    "\n"
   ]
  },
  {
   "cell_type": "code",
   "execution_count": 4,
   "id": "72af2bb8-666b-450d-bb49-c35cdb60ec3d",
   "metadata": {},
   "outputs": [
    {
     "name": "stdin",
     "output_type": "stream",
     "text": [
      "Enter the distance:  56\n",
      "Enter the time:  32\n"
     ]
    },
    {
     "name": "stdout",
     "output_type": "stream",
     "text": [
      "The speed is: 1792.0\n"
     ]
    }
   ],
   "source": [
    "# speed of an object\n",
    "distance = float(input(\"Enter the distance: \"))\n",
    "time = float(input(\"Enter the time: \"))\n",
    "speed = distance * time\n",
    "print(f\"The speed is: {speed}\")\n",
    "\n"
   ]
  },
  {
   "cell_type": "code",
   "execution_count": 6,
   "id": "95ea8f1e-082a-42f8-9f47-40734c58773c",
   "metadata": {},
   "outputs": [
    {
     "name": "stdin",
     "output_type": "stream",
     "text": [
      "Enter your weight (in kilograms):  60\n",
      "Enter your height (in meters):  1.7\n"
     ]
    },
    {
     "name": "stdout",
     "output_type": "stream",
     "text": [
      "Your BMI is: 20.761245674740486\n"
     ]
    }
   ],
   "source": [
    "# bmi calc\n",
    "weight = float(input(\"Enter your weight (in kilograms): \"))\n",
    "height = float(input(\"Enter your height (in meters): \"))\n",
    "bmi = weight / (height ** 2)\n",
    "print(f\"Your BMI is: {bmi}\")\n",
    "\n"
   ]
  },
  {
   "cell_type": "code",
   "execution_count": 7,
   "id": "33c39963-8e87-4f74-b704-9204f36e9bee",
   "metadata": {},
   "outputs": [
    {
     "name": "stdin",
     "output_type": "stream",
     "text": [
      "Enter the mass of the object (in kilograms):  56\n",
      "Enter the acceleration (in m/s²):  20\n"
     ]
    },
    {
     "name": "stdout",
     "output_type": "stream",
     "text": [
      "The force is: 1120.0 N\n"
     ]
    }
   ],
   "source": [
    "# force Using Newton's Second Law:\n",
    "m = float(input(\"Enter the mass of the object (in kilograms): \"))\n",
    "a= float(input(\"Enter the acceleration (in m/s²): \"))\n",
    "f = m * a\n",
    "print(f\"The force is: {f} N\")\n"
   ]
  },
  {
   "cell_type": "code",
   "execution_count": 8,
   "id": "562325a7-4b2d-4eb4-b57b-28498f384bca",
   "metadata": {},
   "outputs": [
    {
     "name": "stdin",
     "output_type": "stream",
     "text": [
      "Enter the principal amount:  54\n",
      "Enter the annual interest rate (in decimal):  4\n",
      "Enter the number of times interest per year:  32\n",
      "Enter the time (in years):  5\n"
     ]
    },
    {
     "name": "stdout",
     "output_type": "stream",
     "text": [
      "The compound interest is: 8256525918.664078\n",
      "The total amount is: 8256525972.664078\n"
     ]
    }
   ],
   "source": [
    "# Compound Interest\n",
    "principal = float(input(\"Enter the principal amount: \"))\n",
    "r = float(input(\"Enter the annual interest rate (in decimal): \"))\n",
    "n = int(input(\"Enter the number of times interest per year: \"))\n",
    "t = float(input(\"Enter the time (in years): \"))\n",
    "a = principal * (1 + r / n) ** (n * t)\n",
    "print(f\"The compound interest is: {a - principal}\")\n",
    "print(f\"The total amount is: {a}\")\n",
    "\n"
   ]
  },
  {
   "cell_type": "code",
   "execution_count": 9,
   "id": "5d225558-0138-4f52-ba20-ec95c65f5fef",
   "metadata": {},
   "outputs": [
    {
     "name": "stdin",
     "output_type": "stream",
     "text": [
      "Enter the length of side x:  4\n",
      "Enter the length of side y:  3\n",
      "Enter the length of side z:  2\n"
     ]
    },
    {
     "name": "stdout",
     "output_type": "stream",
     "text": [
      "The perimeter of the triangle is: 9.0\n"
     ]
    }
   ],
   "source": [
    "# perimeter of a Triangle\n",
    "x = float(input(\"Enter the length of side x: \"))\n",
    "y = float(input(\"Enter the length of side y: \"))\n",
    "z = float(input(\"Enter the length of side z: \"))\n",
    "perimeter = x + y + z\n",
    "print(f\"The perimeter of the triangle is: {perimeter}\")"
   ]
  },
  {
   "cell_type": "code",
   "execution_count": 11,
   "id": "83320054-452f-4073-90b1-a24f9b30065b",
   "metadata": {},
   "outputs": [
    {
     "name": "stdin",
     "output_type": "stream",
     "text": [
      "Enter the radius of the sphere:  5\n"
     ]
    },
    {
     "name": "stdout",
     "output_type": "stream",
     "text": [
      "The volume of the sphere is: 523.3333333333334\n"
     ]
    }
   ],
   "source": [
    "# Volume of a Sphere:\n",
    "radius = float(input(\"Enter the radius of the sphere: \"))\n",
    "volume = (4 / 3) * 3.14 * (radius ** 3)\n",
    "print(f\"The volume of the sphere is: {volume}\")"
   ]
  },
  {
   "cell_type": "code",
   "execution_count": 13,
   "id": "05abd338-bddc-4eb8-9c3c-e2b25f4be545",
   "metadata": {},
   "outputs": [
    {
     "name": "stdin",
     "output_type": "stream",
     "text": [
      "Enter the mass of the object (in kilograms):  45\n",
      "Enter the velocity of the object (in m/s):  34\n"
     ]
    },
    {
     "name": "stdout",
     "output_type": "stream",
     "text": [
      "The kinetic energy is: 26010.0 J\n"
     ]
    }
   ],
   "source": [
    "# Kinetic Energy: \n",
    "m = float(input(\"Enter the mass of the object (in kilograms): \"))\n",
    "v = float(input(\"Enter the velocity of the object (in m/s): \"))\n",
    "ke = 0.5 * m * (v ** 2)\n",
    "print(f\"The kinetic energy is: {ke} J\")"
   ]
  },
  {
   "cell_type": "code",
   "execution_count": 14,
   "id": "d610ede2-ff1a-4c56-9c09-ae15f173eb59",
   "metadata": {},
   "outputs": [
    {
     "name": "stdin",
     "output_type": "stream",
     "text": [
      "Enter coefficient a:  56\n",
      "Enter coefficient b:  75\n",
      "Enter coefficient c:  3\n"
     ]
    },
    {
     "name": "stdout",
     "output_type": "stream",
     "text": [
      "The roots of the quadratic equation are: (-0.041271846074538994+0j) and (-1.2980138682111753+0j)\n"
     ]
    }
   ],
   "source": [
    "#  Quadratic Equation Roots\n",
    "import cmath\n",
    "a = float(input(\"Enter coefficient a: \"))\n",
    "b = float(input(\"Enter coefficient b: \"))\n",
    "c = float(input(\"Enter coefficient c: \"))\n",
    "discriminant = cmath.sqrt(b**2 - 4*a*c)\n",
    "root1 = (-b + discriminant) / (2 * a)\n",
    "root2 = (-b - discriminant) / (2 * a)\n",
    "print(f\"The roots of the quadratic equation are: {root1} and {root2}\")\n"
   ]
  },
  {
   "cell_type": "code",
   "execution_count": 16,
   "id": "bdbe2987-ea13-4db7-b38d-6e144c7267c5",
   "metadata": {},
   "outputs": [
    {
     "name": "stdin",
     "output_type": "stream",
     "text": [
      "Enter the temperature in Celsius:  78\n"
     ]
    },
    {
     "name": "stdout",
     "output_type": "stream",
     "text": [
      "The temperature in Fahrenheit is: 172.4F\n"
     ]
    }
   ],
   "source": [
    "# Temperature Conversion\n",
    "celsius = float(input(\"Enter the temperature in Celsius: \"))\n",
    "fahrenheit = (celsius * 9/5) + 32\n",
    "print(f\"The temperature in Fahrenheit is: {fahrenheit}F\")\n"
   ]
  },
  {
   "cell_type": "code",
   "execution_count": 17,
   "id": "c39a5f97-e353-49fb-b5b3-bbf54120da0f",
   "metadata": {},
   "outputs": [
    {
     "name": "stdin",
     "output_type": "stream",
     "text": [
      "Enter the mass of the first object (in kg):  56\n",
      "Enter the mass of the second object (in kg):  34\n",
      "Enter the distance between the two objects (in meters):  65\n"
     ]
    },
    {
     "name": "stdout",
     "output_type": "stream",
     "text": [
      "The gravitational force between the objects is: 3.007779218934911e-11 N\n"
     ]
    }
   ],
   "source": [
    "# Gravitational Force\n",
    "G = 6.67430e-11  # Gravitational constant\n",
    "m1 = float(input(\"Enter the mass of the first object (in kg): \"))\n",
    "m2 = float(input(\"Enter the mass of the second object (in kg): \"))\n",
    "r = float(input(\"Enter the distance between the two objects (in meters): \"))\n",
    "force = G * (m1 * m2) / (r ** 2)\n",
    "print(f\"The gravitational force between the objects is: {force} N\")"
   ]
  },
  {
   "cell_type": "code",
   "execution_count": 18,
   "id": "2b047b69-6409-41d6-9dcd-dc5f5615379f",
   "metadata": {},
   "outputs": [
    {
     "name": "stdin",
     "output_type": "stream",
     "text": [
      "Enter the radius of the cylinder:  6\n",
      "Enter the height of the cylinder:  45\n"
     ]
    },
    {
     "name": "stdout",
     "output_type": "stream",
     "text": [
      "The volume of the cylinder is: 5089.380098815464\n"
     ]
    }
   ],
   "source": [
    "# Volume of a Cylinder\n",
    "import math\n",
    "radius = float(input(\"Enter the radius of the cylinder: \"))\n",
    "height = float(input(\"Enter the height of the cylinder: \"))\n",
    "volume = math.pi * (radius ** 2) * height\n",
    "print(f\"The volume of the cylinder is: {volume}\")\n"
   ]
  },
  {
   "cell_type": "code",
   "execution_count": 19,
   "id": "058a94fe-c708-46fb-82a2-2c9bd3c6c86e",
   "metadata": {},
   "outputs": [
    {
     "name": "stdin",
     "output_type": "stream",
     "text": [
      "Enter the force applied (in N):  5\n",
      "Enter the area of the surface (in m²):  64\n"
     ]
    },
    {
     "name": "stdout",
     "output_type": "stream",
     "text": [
      "The pressure is: 0.078125 Pa\n"
     ]
    }
   ],
   "source": [
    "# Pressure\n",
    "force = float(input(\"Enter the force applied (in N): \"))\n",
    "area = float(input(\"Enter the area of the surface (in m²): \"))\n",
    "pressure = force / area\n",
    "print(f\"The pressure is: {pressure} Pa\")"
   ]
  },
  {
   "cell_type": "code",
   "execution_count": 20,
   "id": "6b42b8d9-bfda-4d02-8ce3-924982943741",
   "metadata": {},
   "outputs": [
    {
     "name": "stdin",
     "output_type": "stream",
     "text": [
      "Enter the voltage (in volts):  5\n",
      "Enter the current (in amperes):  4\n"
     ]
    },
    {
     "name": "stdout",
     "output_type": "stream",
     "text": [
      "The electric power is: 20.0 W\n"
     ]
    }
   ],
   "source": [
    "# Electric Power\n",
    "voltage = float(input(\"Enter the voltage (in volts): \"))\n",
    "current = float(input(\"Enter the current (in amperes): \"))\n",
    "power = voltage * current\n",
    "print(f\"The electric power is: {power} W\")\n"
   ]
  },
  {
   "cell_type": "code",
   "execution_count": 21,
   "id": "46e549ae-1fd7-4045-a778-20161380feb4",
   "metadata": {},
   "outputs": [
    {
     "name": "stdin",
     "output_type": "stream",
     "text": [
      "Enter the radius of the circle:  56\n"
     ]
    },
    {
     "name": "stdout",
     "output_type": "stream",
     "text": [
      "The perimeter (circumference) of the circle is: 351.85837720205683\n"
     ]
    }
   ],
   "source": [
    "# Perimeter of a Circle\n",
    "import math\n",
    "radius = float(input(\"Enter the radius of the circle: \"))\n",
    "circumference = 2 * math.pi * radius\n",
    "print(f\"The perimeter (circumference) of the circle is: {circumference}\")"
   ]
  },
  {
   "cell_type": "code",
   "execution_count": 22,
   "id": "c5d34cd1-1364-4ba0-ba0d-7f900d9b154f",
   "metadata": {},
   "outputs": [
    {
     "name": "stdin",
     "output_type": "stream",
     "text": [
      "Enter the present value:  54\n",
      "Enter the annual interest rate (in %):  45\n",
      "Enter the time (in years):  3\n"
     ]
    },
    {
     "name": "stdout",
     "output_type": "stream",
     "text": [
      "The future value of the investment is: 164.62574999999998\n"
     ]
    }
   ],
   "source": [
    "# 18. Future Value in Savings\n",
    "pv = float(input(\"Enter the present value: \"))\n",
    "rate = float(input(\"Enter the annual interest rate (in %): \")) / 100\n",
    "time = float(input(\"Enter the time (in years): \"))\n",
    "future_value = pv * (1 + rate) ** time\n",
    "print(f\"The future value of the investment is: {future_value}\")"
   ]
  },
  {
   "cell_type": "code",
   "execution_count": 23,
   "id": "65ac9b8b-64b6-48a4-bbcb-e67f621eea52",
   "metadata": {},
   "outputs": [
    {
     "name": "stdin",
     "output_type": "stream",
     "text": [
      "Enter the force applied (in N):  56\n",
      "Enter the distance moved (in meters):  4\n",
      "Enter the angle between force and movement (in degrees):  34\n"
     ]
    },
    {
     "name": "stdout",
     "output_type": "stream",
     "text": [
      "The work done is: 185.70441625232934 J\n"
     ]
    }
   ],
   "source": [
    "\n",
    "# 19. Work Done by a Force\n",
    "import math\n",
    "force = float(input(\"Enter the force applied (in N): \"))\n",
    "distance = float(input(\"Enter the distance moved (in meters): \"))\n",
    "theta = float(input(\"Enter the angle between force and movement (in degrees): \"))\n",
    "work_done = force * distance * math.cos(math.radians(theta))\n",
    "print(f\"The work done is: {work_done} J\")"
   ]
  },
  {
   "cell_type": "code",
   "execution_count": 24,
   "id": "57d755fb-797b-452d-a37f-eb227ef64ee1",
   "metadata": {},
   "outputs": [
    {
     "name": "stdin",
     "output_type": "stream",
     "text": [
      "Enter the mass of the object (in kg):  564\n",
      "Enter the specific heat capacity (in J/kg°C):  2\n",
      "Enter the temperature change (in °C):  5\n"
     ]
    },
    {
     "name": "stdout",
     "output_type": "stream",
     "text": [
      "The heat transferred is: 5640.0 J\n"
     ]
    }
   ],
   "source": [
    "# 20. Heat Transfer\n",
    "mass = float(input(\"Enter the mass of the object (in kg): \"))\n",
    "specific_heat = float(input(\"Enter the specific heat capacity (in J/kg°C): \"))\n",
    "delta_temp = float(input(\"Enter the temperature change (in °C): \"))\n",
    "heat_transfer = mass * specific_heat * delta_temp\n",
    "print(f\"The heat transferred is: {heat_transfer} J\")"
   ]
  },
  {
   "cell_type": "code",
   "execution_count": null,
   "id": "d1c18b65-fc01-4f69-9963-f32d6cb16469",
   "metadata": {},
   "outputs": [],
   "source": []
  }
 ],
 "metadata": {
  "kernelspec": {
   "display_name": "Python 3 (ipykernel)",
   "language": "python",
   "name": "python3"
  },
  "language_info": {
   "codemirror_mode": {
    "name": "ipython",
    "version": 3
   },
   "file_extension": ".py",
   "mimetype": "text/x-python",
   "name": "python",
   "nbconvert_exporter": "python",
   "pygments_lexer": "ipython3",
   "version": "3.13.1"
  }
 },
 "nbformat": 4,
 "nbformat_minor": 5
}
