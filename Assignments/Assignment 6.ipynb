{
 "cells": [
  {
   "cell_type": "markdown",
   "id": "81b5f880-9ea6-49e6-b04d-6ad7e69289e6",
   "metadata": {},
   "source": [
    "Q1"
   ]
  },
  {
   "cell_type": "code",
   "execution_count": 24,
   "id": "08013850-69df-447a-a646-50a39c794483",
   "metadata": {},
   "outputs": [],
   "source": [
    "class Person:\n",
    "    def __init__(self,name,age,country):\n",
    "            self.name=name\n",
    "            self.age=age\n",
    "            self.country=country\n",
    "    def displayinfo(self):\n",
    "        print(f\"My name is {self.name},im {self.age} years old,i live in {self.country}\")\n",
    "        \n"
   ]
  },
  {
   "cell_type": "code",
   "execution_count": 26,
   "id": "c720bdd8-6a9c-4f2b-928c-b750ff47c8d1",
   "metadata": {},
   "outputs": [],
   "source": [
    "p1=Person(\"Khoso\",20,\"Pakistan\")\n",
    "p2=Person(\"Hamid\",20,\"Dubai\")"
   ]
  },
  {
   "cell_type": "code",
   "execution_count": 28,
   "id": "3ac17de0-1f3c-413e-a03a-da4f9898f0f2",
   "metadata": {},
   "outputs": [
    {
     "name": "stdout",
     "output_type": "stream",
     "text": [
      "My name is Khoso,im 20 years old,i live in Pakistan\n"
     ]
    }
   ],
   "source": [
    "p1.displayinfo()"
   ]
  },
  {
   "cell_type": "code",
   "execution_count": 30,
   "id": "3d15b9b1-8520-49d8-8976-50a34e636efc",
   "metadata": {},
   "outputs": [
    {
     "name": "stdout",
     "output_type": "stream",
     "text": [
      "My name is Hamid,im 20 years old,i live in Dubai\n"
     ]
    }
   ],
   "source": [
    "p2.displayinfo()"
   ]
  },
  {
   "cell_type": "markdown",
   "id": "745b4fee-6863-40ab-b83e-bb7fcee9624e",
   "metadata": {},
   "source": [
    "Q2"
   ]
  },
  {
   "cell_type": "code",
   "execution_count": 45,
   "id": "305f8410-dbaf-406e-9d66-605cb6627389",
   "metadata": {},
   "outputs": [],
   "source": [
    "class Rectangle:\n",
    "    def __init__(self,height,width):\n",
    "        self.height=height\n",
    "        self.width=width\n",
    "    def calcarea(self):\n",
    "        return self.height*self.width\n",
    "    def calcperim(self):\n",
    "        return 2*(self.height+self.width)\n",
    "    "
   ]
  },
  {
   "cell_type": "code",
   "execution_count": 47,
   "id": "fa774f1c-9232-47a1-85f3-e2cded62f017",
   "metadata": {},
   "outputs": [],
   "source": [
    "r1=Rectangle(45,55)"
   ]
  },
  {
   "cell_type": "code",
   "execution_count": 49,
   "id": "c8d6b41d-6579-4925-bc5a-fbfccfc919d9",
   "metadata": {},
   "outputs": [
    {
     "data": {
      "text/plain": [
       "2475"
      ]
     },
     "execution_count": 49,
     "metadata": {},
     "output_type": "execute_result"
    }
   ],
   "source": [
    "r1.calcarea()"
   ]
  },
  {
   "cell_type": "code",
   "execution_count": 51,
   "id": "be4c0324-bc6b-4f85-a565-c3bb325e38a2",
   "metadata": {},
   "outputs": [
    {
     "data": {
      "text/plain": [
       "200"
      ]
     },
     "execution_count": 51,
     "metadata": {},
     "output_type": "execute_result"
    }
   ],
   "source": [
    "r1.calcperim()"
   ]
  },
  {
   "cell_type": "markdown",
   "id": "ebb3a083-faaa-4ac4-9704-f3a1018b0f90",
   "metadata": {},
   "source": [
    "Q3"
   ]
  },
  {
   "cell_type": "code",
   "execution_count": 60,
   "id": "48928952-d3a9-4314-847e-a87c5b6e695a",
   "metadata": {},
   "outputs": [],
   "source": [
    "class Vehicle:\n",
    "    def __init__(self, make, model, year):\n",
    "        self.make = make\n",
    "        self.model = model\n",
    "        self.year = year\n",
    "\n",
    "    def displayinfo(self):\n",
    "        print(f\"The car is of the make {self.make}, its model is {self.model}, it has come out in year {self.year}\")\n",
    "\n",
    "class Car(Vehicle):\n",
    "    def __init__(self, make, model, year, doors):\n",
    "        super().__init__(make, model, year)\n",
    "        self.doors = doors\n",
    "\n",
    "    def displayinfo(self):\n",
    "        super().displayinfo()\n",
    "        print(f\"it has got {self.doors} Doors\")"
   ]
  },
  {
   "cell_type": "code",
   "execution_count": 62,
   "id": "da0951d1-1342-48c3-a956-104e509ef71c",
   "metadata": {},
   "outputs": [
    {
     "name": "stdout",
     "output_type": "stream",
     "text": [
      "The car is of the make Toyota, its model is Corolla, it has come out in year 2022\n",
      "it has got 4 Doors\n"
     ]
    }
   ],
   "source": [
    "car = Car(\"Toyota\", \"Corolla\", 2022, 4)\n",
    "car.displayinfo()"
   ]
  },
  {
   "cell_type": "markdown",
   "id": "3bf99e01-a6fe-48bf-bd2f-bb4ca6dcf60b",
   "metadata": {},
   "source": [
    "Q4"
   ]
  },
  {
   "cell_type": "code",
   "execution_count": 66,
   "id": "2b0a17b3-3a66-431f-afcf-71d71d71ddef",
   "metadata": {},
   "outputs": [],
   "source": [
    "class BankAccount:\n",
    "    def __init__(self, account_number, balance):\n",
    "        self.account_number = account_number\n",
    "        self.balance = balance\n",
    "\n",
    "    def deposit(self, amount):\n",
    "        self.balance += amount\n",
    "\n",
    "    def withdraw(self, amount):\n",
    "        if amount <= self.balance:\n",
    "            self.balance -= amount\n",
    "        else:\n",
    "            print(\"Insufficient balance\")\n"
   ]
  },
  {
   "cell_type": "code",
   "execution_count": 72,
   "id": "ccbb57a2-b6d2-4e48-9bd3-34975754d68f",
   "metadata": {},
   "outputs": [],
   "source": [
    "account1 = BankAccount(\"1234\", 500)\n",
    "\n"
   ]
  },
  {
   "cell_type": "code",
   "execution_count": 74,
   "id": "262cec4a-959c-4e17-9345-3167ed55ccb3",
   "metadata": {},
   "outputs": [
    {
     "name": "stdout",
     "output_type": "stream",
     "text": [
      "Balance: 400\n"
     ]
    }
   ],
   "source": [
    "account1.deposit(100)\n",
    "account1.withdraw(200)\n",
    "print(\"Balance:\", account1.balance)"
   ]
  },
  {
   "cell_type": "markdown",
   "id": "1eeace72-81a8-41e9-af3a-ef2281efcc77",
   "metadata": {},
   "source": [
    "Q5"
   ]
  },
  {
   "cell_type": "code",
   "execution_count": 77,
   "id": "197860d1-abd6-48a4-bfeb-d08f4af83a51",
   "metadata": {},
   "outputs": [],
   "source": [
    "class Shape:\n",
    "    def area(self):\n",
    "        pass\n",
    "\n",
    "class Circle(Shape):\n",
    "    def __init__(self, radius):\n",
    "        self.radius = radius\n",
    "\n",
    "    def area(self):\n",
    "        return 3.14 * self.radius ** 2\n",
    "\n",
    "class Triangle(Shape):\n",
    "    def __init__(self, base, height):\n",
    "        self.base = base\n",
    "        self.height = height\n",
    "\n",
    "    def area(self):\n",
    "        return 0.5 * self.base * self.height"
   ]
  },
  {
   "cell_type": "code",
   "execution_count": 83,
   "id": "ae01c403-c0ce-4195-9811-4fa7cb1768c4",
   "metadata": {},
   "outputs": [],
   "source": [
    "circle = Circle(4)\n",
    "triangle = Triangle(5, 5)\n"
   ]
  },
  {
   "cell_type": "code",
   "execution_count": 85,
   "id": "d6f0e2f1-71da-42f7-899a-c564c91ef12c",
   "metadata": {},
   "outputs": [
    {
     "name": "stdout",
     "output_type": "stream",
     "text": [
      "Circle Area: 50.24\n",
      "Triangle Area: 12.5\n"
     ]
    }
   ],
   "source": [
    "print(\"Circle Area:\", circle.area())\n",
    "print(\"Triangle Area:\", triangle.area())"
   ]
  },
  {
   "cell_type": "markdown",
   "id": "60189f6f-ff96-444a-968d-0213fc600a20",
   "metadata": {},
   "source": [
    "Q6"
   ]
  },
  {
   "cell_type": "code",
   "execution_count": 88,
   "id": "de817e80-17ef-4de5-9821-dc7162af7c19",
   "metadata": {},
   "outputs": [],
   "source": [
    "class Employee:\n",
    "    def __init__(self, name, salary):\n",
    "        self.name = name\n",
    "        self.salary = salary\n",
    "\n",
    "    def annual_salary(self):\n",
    "        return self.salary * 12\n",
    "\n",
    "class Manager(Employee):\n",
    "    def __init__(self, name, salary, department):\n",
    "        super().__init__(name, salary)\n",
    "        self.department = department\n",
    "\n",
    "    def annual_salary(self):\n",
    "        return super().annual_salary() + 5000"
   ]
  },
  {
   "cell_type": "code",
   "execution_count": 94,
   "id": "069c69b4-6c34-48a1-87e4-480c282fc325",
   "metadata": {},
   "outputs": [],
   "source": [
    "manager1 = Manager(\"Sir.Nasir\", 60000, \"Teaching\")\n",
    "manager2 = Manager(\"Sir Shan\", 55000, \"IT\")"
   ]
  },
  {
   "cell_type": "code",
   "execution_count": 96,
   "id": "f91e9b02-76cf-40a8-aca5-6a562d723c99",
   "metadata": {},
   "outputs": [
    {
     "name": "stdout",
     "output_type": "stream",
     "text": [
      "Manager1 Annual Salary: 725000\n",
      "Manager2 Annual Salary: 665000\n"
     ]
    }
   ],
   "source": [
    "print(\"Manager1 Annual Salary:\", manager1.annual_salary())\n",
    "print(\"Manager2 Annual Salary:\", manager2.annual_salary())"
   ]
  },
  {
   "cell_type": "markdown",
   "id": "d703109e-b988-43c3-b373-30b3d019adc6",
   "metadata": {},
   "source": [
    "Q7"
   ]
  },
  {
   "cell_type": "code",
   "execution_count": 108,
   "id": "d1b1e643-40c2-4fb9-9f5e-c2581eb9467a",
   "metadata": {},
   "outputs": [],
   "source": [
    "class Book:\n",
    "    def __init__(self, title, author, pyear):\n",
    "        self.title = title\n",
    "        self.author = author\n",
    "        self.pyear = pyear\n",
    "\n",
    "    def displayinfo(self):\n",
    "        print(f\"The book is titled {self.title},it is authored by {self.author},it came out in year {self.pyear}\")\n",
    "\n",
    "class Ebook(Book):\n",
    "    def __init__(self, title, author, pyear, price):\n",
    "        super().__init__(title, author, pyear)\n",
    "        self.price = price\n",
    "\n",
    "    def displayinfo(self):\n",
    "        super().displayinfo()\n",
    "        print(f\"Its price is  {self.price}$\")"
   ]
  },
  {
   "cell_type": "code",
   "execution_count": 110,
   "id": "81f067ac-8532-4cfd-a872-70637a3c3f1d",
   "metadata": {},
   "outputs": [
    {
     "name": "stdout",
     "output_type": "stream",
     "text": [
      "The book is titled My Brother,it is authored by Fatima Jinah,it came out in year 1960\n",
      "Its price is  5$\n"
     ]
    }
   ],
   "source": [
    "ebook = Ebook(\"My Brother\", \"Fatima Jinah\", 1960, 5)\n",
    "ebook.displayinfo()"
   ]
  },
  {
   "cell_type": "markdown",
   "id": "f92c8004-0d7d-4de9-965c-a2f9a1a842f0",
   "metadata": {},
   "source": [
    "Q8"
   ]
  },
  {
   "cell_type": "code",
   "execution_count": 128,
   "id": "5afe9a68-7117-41ec-88cb-fdf98e5b9735",
   "metadata": {},
   "outputs": [],
   "source": [
    "class Animal:\n",
    "    def __init__(self, species, sound):\n",
    "        self.species = species\n",
    "        self.sound = sound\n",
    "\n",
    "    def make_sound(self):\n",
    "        print(f\"The {self.species} makes a sound: {self.sound}\")\n",
    "\n",
    "class Dog(Animal):\n",
    "    def __init__(self, species, sound, color):\n",
    "        super().__init__(species, sound)\n",
    "        self.color = color\n",
    "\n",
    "    def make_sound(self):\n",
    "        print(f\"The {self.color} dog barks: {self.sound}\")"
   ]
  },
  {
   "cell_type": "code",
   "execution_count": 130,
   "id": "7eae6d7e-7cc0-4712-90c2-60e118985fa2",
   "metadata": {},
   "outputs": [
    {
     "name": "stdout",
     "output_type": "stream",
     "text": [
      "The brown dog barks: Woof\n"
     ]
    }
   ],
   "source": [
    "dog = Dog(\"Dog\", \"Woof\", \"brown\")\n",
    "dog.make_sound()"
   ]
  },
  {
   "cell_type": "markdown",
   "id": "9955cc0d-3052-493e-92ca-b6f73ca2b62f",
   "metadata": {},
   "source": [
    "Q9"
   ]
  },
  {
   "cell_type": "code",
   "execution_count": 133,
   "id": "00027170-dcaf-4d5a-a2a0-d0141b760fec",
   "metadata": {},
   "outputs": [],
   "source": [
    "class Bank:\n",
    "    def __init__(self, name):\n",
    "        self.name = name\n",
    "        self.branches = []\n",
    "\n",
    "    def add_branch(self, branch_name):\n",
    "        self.branches.append(branch_name)\n",
    "\n",
    "    def remove_branch(self, branch_name):\n",
    "        self.branches.remove(branch_name)\n",
    "\n",
    "    def display_branches(self):\n",
    "        print(f\"Branches of {self.name}: {', '.join(self.branches)}\")"
   ]
  },
  {
   "cell_type": "code",
   "execution_count": 137,
   "id": "2758f998-efe9-4a6c-bacf-b3042d8dec30",
   "metadata": {},
   "outputs": [
    {
     "name": "stdout",
     "output_type": "stream",
     "text": [
      "Branches of Habib Bank: Johar, Gulshan\n",
      "Branches of Habib Bank: Johar\n"
     ]
    }
   ],
   "source": [
    "bank = Bank(\"Habib Bank\")\n",
    "bank.add_branch(\"Johar\")\n",
    "bank.add_branch(\"Gulshan\")\n",
    "bank.display_branches()\n",
    "bank.remove_branch(\"Gulshan\")\n",
    "bank.display_branches()"
   ]
  },
  {
   "cell_type": "markdown",
   "id": "394bc142-6ad2-4073-9ea4-0a0eccb6f913",
   "metadata": {},
   "source": [
    "Q10"
   ]
  },
  {
   "cell_type": "code",
   "execution_count": 142,
   "id": "fa6135b3-9e3b-4c80-80be-2d2c11cd1a24",
   "metadata": {},
   "outputs": [],
   "source": [
    "class Product:\n",
    "    def __init__(self, product_id, name, price):\n",
    "        self.product_id = product_id\n",
    "        self.name = name\n",
    "        self.price = price\n",
    "\n",
    "    def total_price(self, quantity):\n",
    "        return self.price * quantity\n",
    "\n",
    "class PCProduct(Product):\n",
    "    def __init__(self, product_id, name, price, warranty):\n",
    "        super().__init__(product_id, name, price)\n",
    "        self.warranty = warranty\n",
    "\n",
    "    def total_price(self, quantity):\n",
    "        return super().total_price(quantity) + (self.warranty * 10)"
   ]
  },
  {
   "cell_type": "code",
   "execution_count": 144,
   "id": "8e622503-923a-4d64-9204-d3d9b1a47853",
   "metadata": {},
   "outputs": [
    {
     "name": "stdout",
     "output_type": "stream",
     "text": [
      "Total Price: 35\n"
     ]
    }
   ],
   "source": [
    "personal_care_product = PCProduct(\"011101\", \"Shampoo\", 5, 2)\n",
    "print(\"Total Price:\", personal_care_product.total_price(3))"
   ]
  },
  {
   "cell_type": "markdown",
   "id": "33e4498e-1859-41a8-ad2e-807b24e582d8",
   "metadata": {},
   "source": [
    "Q11"
   ]
  },
  {
   "cell_type": "code",
   "execution_count": 146,
   "id": "21ad4371-987f-4919-9246-3b894097fda1",
   "metadata": {},
   "outputs": [],
   "source": [
    "class BankAccount:\n",
    "    def __init__(self, account_number, holder_name, balance):\n",
    "        self.account_number = account_number\n",
    "        self.holder_name = holder_name\n",
    "        self.balance = balance\n",
    "\n",
    "    def deposit(self, amount):\n",
    "        self.balance += amount\n",
    "\n",
    "    def withdraw(self, amount):\n",
    "        if amount <= self.balance:\n",
    "            self.balance -= amount\n",
    "        else:\n",
    "            print(\"Insufficient balance\")\n",
    "\n",
    "    def transfer(self, amount, target_account):\n",
    "        if amount <= self.balance:\n",
    "            self.withdraw(amount)\n",
    "            target_account.deposit(amount)\n",
    "        else:\n",
    "            print(\"Insufficient balance for transfer\")\n"
   ]
  },
  {
   "cell_type": "code",
   "execution_count": 152,
   "id": "965ee6e8-6117-4416-8d45-cc7d4c3b7a74",
   "metadata": {},
   "outputs": [],
   "source": [
    "account1 = BankAccount(\"123\", \"Khoso\", 570)\n",
    "account2 = BankAccount(\"456\", \"KT\", 200)\n",
    "account1.transfer(300, account2)"
   ]
  },
  {
   "cell_type": "code",
   "execution_count": 154,
   "id": "ae015e37-bacb-4ce3-8a28-5bf5941a61cd",
   "metadata": {},
   "outputs": [
    {
     "name": "stdout",
     "output_type": "stream",
     "text": [
      "Account1 Balance: 270\n",
      "Account2 Balance: 500\n"
     ]
    }
   ],
   "source": [
    "print(\"Account1 Balance:\", account1.balance)\n",
    "print(\"Account2 Balance:\", account2.balance)"
   ]
  },
  {
   "cell_type": "markdown",
   "id": "6adb94aa-b1f0-4ef6-87e8-e6816316481f",
   "metadata": {},
   "source": [
    "Q12"
   ]
  },
  {
   "cell_type": "code",
   "execution_count": 156,
   "id": "5854c9d3-ae3c-469d-a7de-07f03bbc02ca",
   "metadata": {},
   "outputs": [],
   "source": [
    "class University:\n",
    "    def __init__(self, name):\n",
    "        self.name = name\n",
    "        self.departments = []\n",
    "\n",
    "    def add_department(self, department_name):\n",
    "        self.departments.append(department_name)\n",
    "\n",
    "    def remove_department(self, department_name):\n",
    "        self.departments.remove(department_name)\n",
    "\n",
    "    def display_departments(self):\n",
    "        print(f\"Departments in {self.name}: {', '.join(self.departments)}\")\n"
   ]
  },
  {
   "cell_type": "code",
   "execution_count": 158,
   "id": "153ef380-dfee-4aac-9c26-84a58832b9c2",
   "metadata": {},
   "outputs": [
    {
     "name": "stdout",
     "output_type": "stream",
     "text": [
      "Departments in Tech University: Computer Science, Mechanical Engineering\n",
      "Departments in Tech University: Computer Science\n"
     ]
    }
   ],
   "source": [
    "university = University(\"Tech University\")\n",
    "university.add_department(\"Computer Science\")\n",
    "university.add_department(\"Mechanical Engineering\")\n",
    "university.display_departments()\n",
    "university.remove_department(\"Mechanical Engineering\")\n",
    "university.display_departments()\n"
   ]
  },
  {
   "cell_type": "code",
   "execution_count": null,
   "id": "b6ffa925-fe8f-4b69-89eb-40a13e081f02",
   "metadata": {},
   "outputs": [],
   "source": []
  }
 ],
 "metadata": {
  "kernelspec": {
   "display_name": "Python 3 (ipykernel)",
   "language": "python",
   "name": "python3"
  },
  "language_info": {
   "codemirror_mode": {
    "name": "ipython",
    "version": 3
   },
   "file_extension": ".py",
   "mimetype": "text/x-python",
   "name": "python",
   "nbconvert_exporter": "python",
   "pygments_lexer": "ipython3",
   "version": "3.12.7"
  }
 },
 "nbformat": 4,
 "nbformat_minor": 5
}
