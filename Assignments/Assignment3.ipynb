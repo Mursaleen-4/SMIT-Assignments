{
 "cells": [
  {
   "cell_type": "markdown",
   "id": "206e7cbe-5789-495d-bbe9-58d3b560ecb1",
   "metadata": {},
   "source": [
    "# A. Discounts and Pricing\n"
   ]
  },
  {
   "cell_type": "code",
   "execution_count": 9,
   "id": "7224ec84-89e6-4bcd-a9c2-aeabdcc56802",
   "metadata": {},
   "outputs": [
    {
     "name": "stdin",
     "output_type": "stream",
     "text": [
      "Enter shopping amount:  45000\n",
      "Enter discount percentage:  15\n"
     ]
    },
    {
     "name": "stdout",
     "output_type": "stream",
     "text": [
      "Total amount is: 45000\n",
      "Amount after 15% discount is: 38250.0\n"
     ]
    }
   ],
   "source": [
    "# 1. Check Discount Eligibility\n",
    "sa = int(input(\"Enter shopping amount: \"))\n",
    "if sa > 10000:  # Corrected indentation\n",
    "    discount = int(input(\"Enter discount percentage: \"))\n",
    "    print(f\"Total amount is: {sa}\")\n",
    "    dis = sa * discount / 100\n",
    "    nsa = sa - dis\n",
    "    print(f\"Amount after {discount}% discount is: {nsa}\")\n",
    "else:\n",
    "    print(f\"Total final amount is: {sa}\")\n"
   ]
  },
  {
   "cell_type": "code",
   "execution_count": 10,
   "id": "24926a27-a6e0-4d01-9707-8e2f34733361",
   "metadata": {},
   "outputs": [
    {
     "name": "stdin",
     "output_type": "stream",
     "text": [
      "Enter the number of items:  5\n",
      "Enter the price per item: $ 6000\n"
     ]
    },
    {
     "name": "stdout",
     "output_type": "stream",
     "text": [
      "Total price: $30000.00\n"
     ]
    }
   ],
   "source": [
    "# 2. Calculate Bulk Discount\n",
    "num_items = int(input(\"Enter the number of items: \"))\n",
    "price_per_item = float(input(\"Enter the price per item: $\"))\n",
    "\n",
    "# Calculate the total price\n",
    "total_price = num_items * price_per_item\n",
    "\n",
    "# Apply a discount if the number of items is greater than 5\n",
    "if num_items > 5:\n",
    "    total_price *= 0.85  # Apply a 15% discount\n",
    "\n",
    "# Print the total price, formatted to two decimal places\n",
    "print(f\"Total price: ${total_price:.2f}\")\n"
   ]
  },
  {
   "cell_type": "code",
   "execution_count": 11,
   "id": "12a2748b-af49-4fe0-948a-625b6c1f379d",
   "metadata": {},
   "outputs": [
    {
     "name": "stdin",
     "output_type": "stream",
     "text": [
      "Are you a member? (yes/no):  y\n",
      "Enter the total price: $ 7000\n"
     ]
    },
    {
     "name": "stdout",
     "output_type": "stream",
     "text": [
      "Discounted price: $6650.00\n"
     ]
    }
   ],
   "source": [
    "# 3. Membership Discount\n",
    "is_member = input(\"Are you a member? (yes/no): \").strip().lower() == \"yes\"\n",
    "total_price = float(input(\"Enter the total price: $\"))\n",
    "\n",
    "# Determine discount based on membership status\n",
    "discount = 0.2 if is_member else 0.05\n",
    "final_price = total_price * (1 - discount)\n",
    "\n",
    "# Display the final price after discount\n",
    "print(f\"Discounted price: ${final_price:.2f}\")\n"
   ]
  },
  {
   "cell_type": "code",
   "execution_count": 12,
   "id": "b2e9464b-f8ce-4cbd-964d-f33836503510",
   "metadata": {},
   "outputs": [
    {
     "name": "stdin",
     "output_type": "stream",
     "text": [
      "Is today a holiday? (yes/no):  y\n",
      "Enter the total price: $ 6000\n"
     ]
    },
    {
     "name": "stdout",
     "output_type": "stream",
     "text": [
      "Price after discount: $5400.00\n"
     ]
    }
   ],
   "source": [
    "# 4. Seasonal Sale\n",
    "is_holiday = input(\"Is today a holiday? (yes/no): \").strip().lower() == \"yes\"\n",
    "total_price = float(input(\"Enter the total price: $\"))\n",
    "\n",
    "# Determine discount based on whether it's a holiday\n",
    "discount = 0.25 if is_holiday else 0.10\n",
    "final_price = total_price * (1 - discount)\n",
    "\n",
    "# Display the final price after applying the discount\n",
    "print(f\"Price after discount: ${final_price:.2f}\")\n"
   ]
  },
  {
   "cell_type": "code",
   "execution_count": 13,
   "id": "8b2a3811-76c7-4aa9-b39a-0e41d37fc8b0",
   "metadata": {},
   "outputs": [
    {
     "name": "stdin",
     "output_type": "stream",
     "text": [
      "Enter the number of items:  7\n"
     ]
    },
    {
     "name": "stdout",
     "output_type": "stream",
     "text": [
      "Items to pay for: 4\n"
     ]
    }
   ],
   "source": [
    "# 5. Buy-One-Get-One-Free\n",
    "num_items = int(input(\"Enter the number of items: \"))\n",
    "\n",
    "# Calculate the number of items to pay for in a BOGO offer\n",
    "items_to_pay = (num_items + 1) // 2  # For every pair, one is free; add 1 to handle odd numbers\n",
    "\n",
    "# Display the number of items the customer needs to pay for\n",
    "print(f\"Items to pay for: {items_to_pay}\")\n"
   ]
  },
  {
   "cell_type": "markdown",
   "id": "8a3a596b-f1ae-4db6-8516-ece335a8b08b",
   "metadata": {},
   "source": [
    "# B. Tax Calculations\n"
   ]
  },
  {
   "cell_type": "code",
   "execution_count": 14,
   "id": "556f68c7-f6a3-4868-bd84-da5c224362ec",
   "metadata": {},
   "outputs": [
    {
     "name": "stdin",
     "output_type": "stream",
     "text": [
      "Enter the price of the item: $ 600\n"
     ]
    },
    {
     "name": "stdout",
     "output_type": "stream",
     "text": [
      "Total price after tax: $690.00\n"
     ]
    }
   ],
   "source": [
    "# 6. Sales Tax\n",
    "price = float(input(\"Enter the price of the item: $\"))\n",
    "tax = 0.15 if price > 500 else 0.08\n",
    "total_price = price * (1 + tax)\n",
    "print(f\"Total price after tax: ${total_price:.2f}\")\n"
   ]
  },
  {
   "cell_type": "code",
   "execution_count": 15,
   "id": "8ec3db4d-389c-4574-b64f-4e90e50df303",
   "metadata": {},
   "outputs": [
    {
     "name": "stdin",
     "output_type": "stream",
     "text": [
      "Enter annual income: $ 70000\n"
     ]
    },
    {
     "name": "stdout",
     "output_type": "stream",
     "text": [
      "Tax amount: $14000.00\n"
     ]
    }
   ],
   "source": [
    "# 7. Income Tax\n",
    "annual_income = float(input(\"Enter annual income: $\"))\n",
    "tax_rate = 0.2 if annual_income > 50000 else 0.1\n",
    "tax = annual_income * tax_rate\n",
    "print(f\"Tax amount: ${tax:.2f}\")\n"
   ]
  },
  {
   "cell_type": "code",
   "execution_count": 16,
   "id": "b8b31ce4-1a11-48d5-8267-8f07cf60482e",
   "metadata": {},
   "outputs": [
    {
     "name": "stdin",
     "output_type": "stream",
     "text": [
      "Enter income: $ 50000\n"
     ]
    },
    {
     "name": "stdout",
     "output_type": "stream",
     "text": [
      "Tax bracket: Medium Tax\n"
     ]
    }
   ],
   "source": [
    "# 8. Tax Bracket\n",
    "income = float(input(\"Enter income: $\"))\n",
    "if income < 30000:\n",
    "    bracket = \"Low Tax\"\n",
    "elif income < 100000:\n",
    "    bracket = \"Medium Tax\"\n",
    "else:\n",
    "    bracket = \"High Tax\"\n",
    "print(f\"Tax bracket: {bracket}\")\n"
   ]
  },
  {
   "cell_type": "code",
   "execution_count": 17,
   "id": "22c06c74-4dc3-4785-bca9-300c43c06063",
   "metadata": {},
   "outputs": [
    {
     "name": "stdin",
     "output_type": "stream",
     "text": [
      "Is the item essential? (yes/no):  y\n",
      "Enter the price of the item: $ 600\n"
     ]
    },
    {
     "name": "stdout",
     "output_type": "stream",
     "text": [
      "Final price: $672.00\n"
     ]
    }
   ],
   "source": [
    "# 9. VAT Calculation\n",
    "is_essential = input(\"Is the item essential? (yes/no): \").strip().lower() == \"yes\"\n",
    "price = float(input(\"Enter the price of the item: $\"))\n",
    "vat = 0.05 if is_essential else 0.12\n",
    "final_price = price * (1 + vat)\n",
    "print(f\"Final price: ${final_price:.2f}\")\n"
   ]
  },
  {
   "cell_type": "code",
   "execution_count": 19,
   "id": "0d5aa67b-2117-4452-889f-a7a90f839479",
   "metadata": {},
   "outputs": [
    {
     "name": "stdin",
     "output_type": "stream",
     "text": [
      "Is today a tax-free day? (yes/no):  yes\n",
      "Enter the original price: $ 500\n"
     ]
    },
    {
     "name": "stdout",
     "output_type": "stream",
     "text": [
      "Final price: $500.00\n"
     ]
    }
   ],
   "source": [
    "# 10. Tax-Free Day\n",
    "tax_free = input(\"Is today a tax-free day? (yes/no): \").strip().lower() == \"yes\"\n",
    "price = float(input(\"Enter the original price: $\"))\n",
    "final_price = price if tax_free else price * 1.07\n",
    "print(f\"Final price: ${final_price:.2f}\")\n"
   ]
  },
  {
   "cell_type": "markdown",
   "id": "ebecbc1b-9277-4cfa-abf1-b52ab312861f",
   "metadata": {},
   "source": [
    "# C. Shopping and Billing\n"
   ]
  },
  {
   "cell_type": "code",
   "execution_count": 20,
   "id": "5440597b-0a65-4eab-a964-f9ad37d8b41f",
   "metadata": {},
   "outputs": [
    {
     "name": "stdin",
     "output_type": "stream",
     "text": [
      "Enter purchase amount: $ 600\n"
     ]
    },
    {
     "name": "stdout",
     "output_type": "stream",
     "text": [
      "Total amount: $600.00\n"
     ]
    }
   ],
   "source": [
    "# 11. Free Shipping\n",
    "purchase_amount = float(input(\"Enter purchase amount: $\"))\n",
    "shipping = 0 if purchase_amount > 50 else 5  # Free shipping for purchases over $50\n",
    "total = purchase_amount + shipping\n",
    "print(f\"Total amount: ${total:.2f}\")\n"
   ]
  },
  {
   "cell_type": "code",
   "execution_count": 21,
   "id": "64a9e6f2-41ce-4c13-a101-13f870155d5b",
   "metadata": {},
   "outputs": [
    {
     "name": "stdin",
     "output_type": "stream",
     "text": [
      "Enter discount code:  DISCOUNT10\n",
      "Enter the total price: $ 5000\n"
     ]
    },
    {
     "name": "stdout",
     "output_type": "stream",
     "text": [
      "Final price: $4500.00\n"
     ]
    }
   ],
   "source": [
    "# 12. Discount Code\n",
    "code = input(\"Enter discount code: \").strip()\n",
    "total_price = float(input(\"Enter the total price: $\"))\n",
    "if code == \"DISCOUNT10\":\n",
    "    total_price *= 0.9  # Apply a 10% discount\n",
    "print(f\"Final price: ${total_price:.2f}\")\n"
   ]
  },
  {
   "cell_type": "code",
   "execution_count": 22,
   "id": "57f6a7a5-8bae-4841-a943-38b6bd7f7d1a",
   "metadata": {},
   "outputs": [
    {
     "name": "stdin",
     "output_type": "stream",
     "text": [
      "Enter the total price: $ 6000\n"
     ]
    },
    {
     "name": "stdout",
     "output_type": "stream",
     "text": [
      "Final price: $4800.00\n"
     ]
    }
   ],
   "source": [
    "# 13. Tiered Discounts\n",
    "total_price = float(input(\"Enter the total price: $\"))\n",
    "if total_price > 100:\n",
    "    discount = 0.2  # 20% discount for purchases over $100\n",
    "elif total_price > 50:\n",
    "    discount = 0.1  # 10% discount for purchases over $50\n",
    "else:\n",
    "    discount = 0  # No discount for purchases $50 or below\n",
    "final_price = total_price * (1 - discount)\n",
    "print(f\"Final price: ${final_price:.2f}\")\n"
   ]
  },
  {
   "cell_type": "code",
   "execution_count": 23,
   "id": "7de7c6cb-064d-4e7c-9f49-0ec9f90e3a66",
   "metadata": {},
   "outputs": [
    {
     "name": "stdin",
     "output_type": "stream",
     "text": [
      "Enter the total amount: $ 6700\n"
     ]
    },
    {
     "name": "stdout",
     "output_type": "stream",
     "text": [
      "Total amount: $6700.00\n"
     ]
    }
   ],
   "source": [
    "# 14. Minimum Purchase Requirement\n",
    "total_amount = float(input(\"Enter the total amount: $\"))\n",
    "if total_amount < 20:\n",
    "    print(\"Minimum purchase of $20 is required.\")\n",
    "else:\n",
    "    print(f\"Total amount: ${total_amount:.2f}\")\n"
   ]
  },
  {
   "cell_type": "code",
   "execution_count": 24,
   "id": "c59a089c-4d65-420f-aae6-f6d3517d461f",
   "metadata": {},
   "outputs": [
    {
     "name": "stdin",
     "output_type": "stream",
     "text": [
      "Is the customer a loyal member? (yes/no):  yes\n",
      "Enter points for the purchase:  45\n"
     ]
    },
    {
     "name": "stdout",
     "output_type": "stream",
     "text": [
      "Loyalty points earned: 90\n"
     ]
    }
   ],
   "source": [
    "# 15. Loyalty Points\n",
    "is_loyal = input(\"Is the customer a loyal member? (yes/no): \").strip().lower() == \"yes\"\n",
    "purchase_points = int(input(\"Enter points for the purchase: \"))\n",
    "loyalty_points = purchase_points * 2 if is_loyal else purchase_points  # Double points for loyal members\n",
    "print(f\"Loyalty points earned: {loyalty_points}\")\n"
   ]
  },
  {
   "cell_type": "markdown",
   "id": "6d9f6f7f-a776-4b32-80be-738f130743ac",
   "metadata": {},
   "source": [
    "# D. Travel and Tickets\n"
   ]
  },
  {
   "cell_type": "code",
   "execution_count": 25,
   "id": "93f95aa9-bf4c-496b-ab80-f2852260bdb7",
   "metadata": {},
   "outputs": [
    {
     "name": "stdin",
     "output_type": "stream",
     "text": [
      "Enter travel distance in miles:  4\n",
      "Enter ticket price: $ 54\n"
     ]
    },
    {
     "name": "stdout",
     "output_type": "stream",
     "text": [
      "Final ticket price: $54.00\n"
     ]
    }
   ],
   "source": [
    "# 16. Travel Discount\n",
    "miles = int(input(\"Enter travel distance in miles: \"))\n",
    "ticket_price = float(input(\"Enter ticket price: $\"))\n",
    "discount = 0.2 if miles > 500 else 0  # 20% discount for distances over 500 miles\n",
    "final_price = ticket_price * (1 - discount)\n",
    "print(f\"Final ticket price: ${final_price:.2f}\")\n"
   ]
  },
  {
   "cell_type": "code",
   "execution_count": 27,
   "id": "eb45d336-9b4d-4836-991c-9932028e3f9d",
   "metadata": {},
   "outputs": [
    {
     "name": "stdin",
     "output_type": "stream",
     "text": [
      "Enter passenger's age:  61\n",
      "Enter ticket price: $ 450\n"
     ]
    },
    {
     "name": "stdout",
     "output_type": "stream",
     "text": [
      "Final ticket price: $382.50\n"
     ]
    }
   ],
   "source": [
    "# 17. Child or Senior Discount\n",
    "age = int(input(\"Enter passenger's age: \"))\n",
    "ticket_price = float(input(\"Enter ticket price: $\"))\n",
    "discount = 0.15 if age < 12 or age > 60 else 0  # 15% discount for children under 12 or seniors over 60\n",
    "final_price = ticket_price * (1 - discount)\n",
    "print(f\"Final ticket price: ${final_price:.2f}\")\n"
   ]
  },
  {
   "cell_type": "code",
   "execution_count": 28,
   "id": "48faf290-7e43-45d2-af3e-defcd51c0df6",
   "metadata": {},
   "outputs": [
    {
     "name": "stdin",
     "output_type": "stream",
     "text": [
      "Is the ticket for a weekend? (yes/no):  yes\n",
      "Enter ticket price: $ 7000\n"
     ]
    },
    {
     "name": "stdout",
     "output_type": "stream",
     "text": [
      "Final ticket price: $7700.00\n"
     ]
    }
   ],
   "source": [
    "# 18. Ticket Type Pricing\n",
    "is_weekend = input(\"Is the ticket for a weekend? (yes/no): \").strip().lower() == \"yes\"\n",
    "ticket_price = float(input(\"Enter ticket price: $\"))\n",
    "surcharge = 0.1 if is_weekend else 0  # 10% surcharge for weekend tickets\n",
    "final_price = ticket_price * (1 + surcharge)\n",
    "print(f\"Final ticket price: ${final_price:.2f}\")"
   ]
  },
  {
   "cell_type": "code",
   "execution_count": 29,
   "id": "59650e6b-d419-40f7-9db2-157d21ed130d",
   "metadata": {},
   "outputs": [
    {
     "name": "stdin",
     "output_type": "stream",
     "text": [
      "Enter baggage weight in kg:  100\n"
     ]
    },
    {
     "name": "stdout",
     "output_type": "stream",
     "text": [
      "Extra baggage fee: $800.00\n"
     ]
    }
   ],
   "source": [
    "# 19. Baggage Fee\n",
    "baggage_weight = float(input(\"Enter baggage weight in kg: \"))\n",
    "extra_weight = max(0, baggage_weight - 20)  # No fee for the first 20 kg\n",
    "extra_fee = extra_weight * 10  # $10 fee for each kg over 20 kg\n",
    "print(f\"Extra baggage fee: ${extra_fee:.2f}\")\n"
   ]
  },
  {
   "cell_type": "code",
   "execution_count": 30,
   "id": "9d8e65ef-5ab9-4b30-8034-d0d14de8b17d",
   "metadata": {},
   "outputs": [
    {
     "name": "stdin",
     "output_type": "stream",
     "text": [
      "How many days in advance was the ticket booked?  50\n",
      "Enter ticket price: $ 4500\n"
     ]
    },
    {
     "name": "stdout",
     "output_type": "stream",
     "text": [
      "Final ticket price: $4050.00\n"
     ]
    }
   ],
   "source": [
    "# 20. Early Bird Discount\n",
    "days_in_advance = int(input(\"How many days in advance was the ticket booked? \"))\n",
    "ticket_price = float(input(\"Enter ticket price: $\"))\n",
    "discount = 0.1 if days_in_advance > 30 else 0  # 10% discount for bookings over 30 days in advance\n",
    "final_price = ticket_price * (1 - discount)\n",
    "print(f\"Final ticket price: ${final_price:.2f}\")\n"
   ]
  },
  {
   "cell_type": "markdown",
   "id": "1f6cca79-dfbd-4def-b207-eef2deac410f",
   "metadata": {},
   "source": [
    "# E. Grades and Performance\n"
   ]
  },
  {
   "cell_type": "code",
   "execution_count": 31,
   "id": "a237eff7-38cf-49aa-b9e6-e66abba7a390",
   "metadata": {},
   "outputs": [
    {
     "name": "stdin",
     "output_type": "stream",
     "text": [
      "Enter the student's score:  50\n"
     ]
    },
    {
     "name": "stdout",
     "output_type": "stream",
     "text": [
      "Pass\n"
     ]
    }
   ],
   "source": [
    "# 21. Pass or Fail\n",
    "score = int(input(\"Enter the student's score: \"))\n",
    "result = \"Pass\" if score >= 40 else \"Fail\"  # Pass if score is 40 or above\n",
    "print(result)\n"
   ]
  },
  {
   "cell_type": "code",
   "execution_count": 32,
   "id": "612cd095-2298-4965-81ce-53e45643556e",
   "metadata": {},
   "outputs": [
    {
     "name": "stdin",
     "output_type": "stream",
     "text": [
      "Enter the student's score:  56\n"
     ]
    },
    {
     "name": "stdout",
     "output_type": "stream",
     "text": [
      "Grade: C\n"
     ]
    }
   ],
   "source": [
    "# 22. Grade Assignment\n",
    "score = int(input(\"Enter the student's score: \"))\n",
    "if score >= 90:\n",
    "    grade = \"A\"  # Excellent\n",
    "elif score >= 75:\n",
    "    grade = \"B\"  # Very Good\n",
    "elif score >= 50:\n",
    "    grade = \"C\"  # Satisfactory\n",
    "else:\n",
    "    grade = \"F\"  # Fail\n",
    "print(f\"Grade: {grade}\")\n"
   ]
  },
  {
   "cell_type": "code",
   "execution_count": 33,
   "id": "0835ffe0-a319-4165-bdf5-7e2c9e2088e7",
   "metadata": {},
   "outputs": [
    {
     "name": "stdin",
     "output_type": "stream",
     "text": [
      "Enter the student's score:  80\n",
      "Did the student complete all assignments? (yes/no):  yes\n"
     ]
    },
    {
     "name": "stdout",
     "output_type": "stream",
     "text": [
      "Final score: 85\n"
     ]
    }
   ],
   "source": [
    "# 23. Bonus Marks\n",
    "score = int(input(\"Enter the student's score: \"))\n",
    "completed_assignments = input(\"Did the student complete all assignments? (yes/no): \").strip().lower() == \"yes\"\n",
    "if completed_assignments:\n",
    "    score += 5  # Adds 5 bonus points for completing all assignments\n",
    "print(f\"Final score: {score}\")\n"
   ]
  },
  {
   "cell_type": "code",
   "execution_count": 34,
   "id": "ae5da479-d04a-4f1a-b3f3-2f7ce189a609",
   "metadata": {},
   "outputs": [
    {
     "name": "stdin",
     "output_type": "stream",
     "text": [
      "Enter attendance percentage:  75\n"
     ]
    },
    {
     "name": "stdout",
     "output_type": "stream",
     "text": [
      "Exam eligibility: Eligible\n"
     ]
    }
   ],
   "source": [
    "# 24. Attendance Eligibility\n",
    "attendance = int(input(\"Enter attendance percentage: \"))\n",
    "eligibility = \"Eligible\" if attendance >= 75 else \"Not Eligible\"  # Minimum 75% attendance required\n",
    "print(f\"Exam eligibility: {eligibility}\")\n"
   ]
  },
  {
   "cell_type": "code",
   "execution_count": 35,
   "id": "c9b6e215-011b-4c88-af75-2f92b1c73f42",
   "metadata": {},
   "outputs": [
    {
     "name": "stdin",
     "output_type": "stream",
     "text": [
      "Enter student's grade:  A\n",
      "Enter annual family income: $ 40000\n"
     ]
    },
    {
     "name": "stdout",
     "output_type": "stream",
     "text": [
      "Not eligible for scholarship\n"
     ]
    }
   ],
   "source": [
    "# 25. Scholarship Eligibility\n",
    "grade = input(\"Enter student's grade: \").strip().upper()\n",
    "family_income = float(input(\"Enter annual family income: $\"))\n",
    "if grade == \"A\" and family_income < 30000:\n",
    "    print(\"Eligible for scholarship\")  # Grade A with family income below $30,000\n",
    "else:\n",
    "    print(\"Not eligible for scholarship\")\n"
   ]
  },
  {
   "cell_type": "code",
   "execution_count": null,
   "id": "af9c6ecc-ed81-4751-8aa7-5aae702f1a38",
   "metadata": {},
   "outputs": [],
   "source": []
  }
 ],
 "metadata": {
  "kernelspec": {
   "display_name": "Python 3 (ipykernel)",
   "language": "python",
   "name": "python3"
  },
  "language_info": {
   "codemirror_mode": {
    "name": "ipython",
    "version": 3
   },
   "file_extension": ".py",
   "mimetype": "text/x-python",
   "name": "python",
   "nbconvert_exporter": "python",
   "pygments_lexer": "ipython3",
   "version": "3.13.1"
  }
 },
 "nbformat": 4,
 "nbformat_minor": 5
}
