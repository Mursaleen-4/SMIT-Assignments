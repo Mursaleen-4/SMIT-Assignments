{
 "cells": [
  {
   "cell_type": "markdown",
   "metadata": {
    "id": "O4XtVMeN52Ji"
   },
   "source": [
    "1) Using the python print function print any string value, integer value, boolean value, float value in single print command"
   ]
  },
  {
   "cell_type": "code",
   "execution_count": 1,
   "metadata": {
    "vscode": {
     "languageId": "raw"
    }
   },
   "outputs": [
    {
     "name": "stdout",
     "output_type": "stream",
     "text": [
      "Value  25 5.6 True\n"
     ]
    }
   ],
   "source": [
    "\n",
    "print(\"Value \",25,5.6,5>4)"
   ]
  },
  {
   "cell_type": "markdown",
   "metadata": {
    "id": "iNinlTd052Jr"
   },
   "source": [
    "2) Using the python print function print hyphon(-) separated any string value, integer value, boolean value, float value in single print command"
   ]
  },
  {
   "cell_type": "code",
   "execution_count": 2,
   "metadata": {
    "vscode": {
     "languageId": "raw"
    }
   },
   "outputs": [
    {
     "name": "stdout",
     "output_type": "stream",
     "text": [
      "Value-25-5.6-True\n"
     ]
    }
   ],
   "source": [
    "print(\"Value\",25,5.6,5>4,sep=\"-\")"
   ]
  },
  {
   "cell_type": "markdown",
   "metadata": {
    "id": "4fNVS99O52Jt"
   },
   "source": [
    "3) Using the python print function print any string value, integer value, boolean value, float value in separate print command.\n",
    "But every value must be space separated and in single line"
   ]
  },
  {
   "cell_type": "code",
   "execution_count": 3,
   "metadata": {
    "vscode": {
     "languageId": "raw"
    }
   },
   "outputs": [
    {
     "name": "stdout",
     "output_type": "stream",
     "text": [
      "Value 25 True 1.5\n"
     ]
    }
   ],
   "source": [
    "print(\"Value\",end=\" \" )\n",
    "print(25 ,end=\" \")\n",
    "print(5>4,end=\" \" )\n",
    "print(1.5 )"
   ]
  },
  {
   "cell_type": "markdown",
   "metadata": {
    "id": "akEUFstT52Jv"
   },
   "source": [
    "4) Can a python print function take no value to print???"
   ]
  },
  {
   "cell_type": "markdown",
   "metadata": {},
   "source": [
    "yes,it can take a null value and print a blank line"
   ]
  },
  {
   "cell_type": "code",
   "execution_count": 4,
   "metadata": {
    "vscode": {
     "languageId": "raw"
    }
   },
   "outputs": [
    {
     "name": "stdout",
     "output_type": "stream",
     "text": [
      "Hello, world!\n",
      "\n",
      "This is another line.\n"
     ]
    }
   ],
   "source": [
    "print(\"Hello, world!\")\n",
    "print()  # Prints a blank line\n",
    "print(\"This is another line.\")"
   ]
  },
  {
   "cell_type": "markdown",
   "metadata": {
    "id": "AzBzVODl52Jy"
   },
   "source": [
    "5) One of my friends name is Mr. Ahmed. He is 30 years old.  He is a lawer by profession. He has done his bachelors in law in the year 2005. He is working with a reputable law firm 'The Himalya Associates' in Karachi since 2015.\n",
    "He is a handsome lawer with height of 5.10 feets and weight 70600g. His monthly income is Rs. 200k PKR.\n",
    "\n",
    "Note: Create variables from above text and also assign values from the text.  "
   ]
  },
  {
   "cell_type": "code",
   "execution_count": 9,
   "metadata": {
    "vscode": {
     "languageId": "raw"
    }
   },
   "outputs": [
    {
     "name": "stdout",
     "output_type": "stream",
     "text": [
      "Mr.Ahmed, a 30-year-old handsome Lawyer, has been practicing since 2005 at The himaliya associates. He joined the firm in 2015. Standing 5.1 ft tall and weighing 70600g, he earns an income of 200000.\n"
     ]
    }
   ],
   "source": [
    "name=\"Mr.Ahmed\"\n",
    "age=30\n",
    "prof=\"Lawyer\"\n",
    "POyear=2005\n",
    "firm=\"The himaliya associates\"\n",
    "Employement_year=2015\n",
    "looks=\"handsome\"\n",
    "height=5.10\n",
    "weight=\"70600g\"\n",
    "monthly_income=200000\n",
    "print(f\"{name}, a {age}-year-old {looks} {prof}, has been practicing since {POyear} at {firm}. He joined the firm in {Employement_year}. Standing {height} ft tall and weighing {weight}, he earns an income of {monthly_income}.\")\n"
   ]
  },
  {
   "cell_type": "markdown",
   "metadata": {
    "id": "Uaf--v5S52J0"
   },
   "source": [
    "6)How many years has been to Mr. Ahmed after his bachelors degree? Create a variable that hold current year value and then subtract it from his passout year"
   ]
  },
  {
   "cell_type": "code",
   "execution_count": 10,
   "metadata": {
    "vscode": {
     "languageId": "raw"
    }
   },
   "outputs": [
    {
     "name": "stdout",
     "output_type": "stream",
     "text": [
      "19\n"
     ]
    }
   ],
   "source": [
    "current_year=2024\n",
    "PO_duration=current_year-POyear\n",
    "print(PO_duration)"
   ]
  },
  {
   "cell_type": "markdown",
   "metadata": {
    "id": "SAQtVyvD52J1"
   },
   "source": [
    "7) How many years has Mr. Ahmed been working with law firm 'The Himalya Associates'. Create necesary variables and print the correct number of years in working in the firm"
   ]
  },
  {
   "cell_type": "code",
   "execution_count": 12,
   "metadata": {
    "vscode": {
     "languageId": "raw"
    }
   },
   "outputs": [
    {
     "name": "stdout",
     "output_type": "stream",
     "text": [
      "9\n"
     ]
    }
   ],
   "source": [
    "working_duration=current_year-Employement_year\n",
    "print(working_duration)\n"
   ]
  },
  {
   "cell_type": "markdown",
   "metadata": {
    "id": "Gnk1kIUj52J3"
   },
   "source": [
    "8)Convert the monthly income of Mr. Ahmed in dollars.  Create necesary variables and print the income in dollars."
   ]
  },
  {
   "cell_type": "code",
   "execution_count": 13,
   "metadata": {
    "vscode": {
     "languageId": "raw"
    }
   },
   "outputs": [
    {
     "name": "stdout",
     "output_type": "stream",
     "text": [
      "714$"
     ]
    }
   ],
   "source": [
    "current_rateofDollar=280\n",
    "MI_inDollars=monthly_income//current_rateofDollar\n",
    "print(MI_inDollars,end=\"$\")"
   ]
  },
  {
   "cell_type": "markdown",
   "metadata": {
    "id": "Adx4oblF52J4"
   },
   "source": [
    "9) Check if the income in dollars is a float or integer value. if it is float, re-write the code so that income gets converted in integer. print the income in integer type value"
   ]
  },
  {
   "cell_type": "code",
   "execution_count": 14,
   "metadata": {
    "vscode": {
     "languageId": "raw"
    }
   },
   "outputs": [
    {
     "name": "stdout",
     "output_type": "stream",
     "text": [
      "<class 'int'>\n"
     ]
    }
   ],
   "source": [
    "print(type(MI_inDollars))\n",
    "#its already in integer"
   ]
  },
  {
   "cell_type": "markdown",
   "metadata": {
    "id": "NcYepWgZ52J5",
    "vscode": {
     "languageId": "raw"
    }
   },
   "source": [
    "weight = \"70600g\"\n",
    "print(f\"Type of weight: {type(weight)}\")\n",
    "weight_in_kg = int(weight[:-1]) // 1000 \n",
    "print(f\"Weight in kilograms (integer): {weight_in_kg} kg\")\n"
   ]
  },
  {
   "cell_type": "code",
   "execution_count": 15,
   "metadata": {
    "id": "05FU1XHw52J7"
   },
   "outputs": [
    {
     "name": "stdout",
     "output_type": "stream",
     "text": [
      "1994\n"
     ]
    }
   ],
   "source": [
    "#11) print the year of birth of Mr. Ahmed.\n",
    "birth_year = current_year - age\n",
    "print(birth_year)"
   ]
  },
  {
   "cell_type": "code",
   "execution_count": 16,
   "metadata": {
    "id": "paq_3Kg152J8"
   },
   "outputs": [
    {
     "name": "stdout",
     "output_type": "stream",
     "text": [
      "Mr.Ahmed, a 30-year-old handsome Lawyer, has been practicing since 2005 at The himaliya associates. He joined the firm in 2015. Standing 5.1 ft tall and weighing 70600g, he earns an income of 200000.\n",
      "19\n",
      "9\n",
      "714\n",
      "<class 'int'>\n",
      "Type of weight: <class 'str'>\n",
      "Weight in kilograms (integer): 70 kg\n",
      "1994\n"
     ]
    }
   ],
   "source": [
    "name=\"Mr.Ahmed\"\n",
    "age=30\n",
    "prof=\"Lawyer\"\n",
    "POyear=2005\n",
    "firm=\"The himaliya associates\"\n",
    "Employment_year=2015\n",
    "looks=\"handsome\"\n",
    "height=5.10\n",
    "weight=\"70600g\"\n",
    "monthly_income=200000\n",
    "print(f\"{name}, a {age}-year-old {looks} {prof}, has been practicing since {POyear} at {firm}. He joined the firm in {Employment_year}. Standing {height} ft tall and weighing {weight}, he earns an income of {monthly_income}.\")\n",
    "current_year=2024\n",
    "PO_duration=current_year-POyear\n",
    "print(PO_duration)\n",
    "working_duration=current_year-Employment_year\n",
    "print(working_duration)\n",
    "current_rateofDollar=280\n",
    "MI_inDollars=monthly_income//current_rateofDollar\n",
    "print(MI_inDollars)\n",
    "print(type(MI_inDollars))\n",
    "weight = \"70600g\"\n",
    "print(f\"Type of weight: {type(weight)}\")\n",
    "weight_in_kg = int(weight[:-1]) // 1000 \n",
    "print(f\"Weight in kilograms (integer): {weight_in_kg} kg\")\n",
    "birth_year = current_year - age\n",
    "print(birth_year)\n"
   ]
  },
  {
   "cell_type": "markdown",
   "metadata": {
    "id": "eWySSgh552J8"
   },
   "source": [
    "12) Can Rs. 100 be divided equally among 6 students?\n",
    "HINT: % operator (modulo)"
   ]
  },
  {
   "cell_type": "code",
   "execution_count": 17,
   "metadata": {
    "id": "RYc0Ks7g52J-",
    "outputId": "0e2425ca-fbed-4c24-b659-e52ef2d0674e"
   },
   "outputs": [
    {
     "name": "stdout",
     "output_type": "stream",
     "text": [
      "No, Rs. 100 cannot be divided equally among 6 students.\n"
     ]
    }
   ],
   "source": [
    "amount = 100\n",
    "students = 6\n",
    "\n",
    "# Check if it can be divided equally\n",
    "if amount % students == 0:\n",
    "    print(f\"Yes, Rs. {amount} can be divided equally among {students} students.\")\n",
    "else:\n",
    "    print(f\"No, Rs. {amount} cannot be divided equally among {students} students.\")\n"
   ]
  },
  {
   "cell_type": "code",
   "execution_count": null,
   "metadata": {},
   "outputs": [],
   "source": []
  }
 ],
 "metadata": {
  "colab": {
   "provenance": []
  },
  "kernelspec": {
   "display_name": "Python 3 (ipykernel)",
   "language": "python",
   "name": "python3"
  },
  "language_info": {
   "codemirror_mode": {
    "name": "ipython",
    "version": 3
   },
   "file_extension": ".py",
   "mimetype": "text/x-python",
   "name": "python",
   "nbconvert_exporter": "python",
   "pygments_lexer": "ipython3",
   "version": "3.13.1"
  }
 },
 "nbformat": 4,
 "nbformat_minor": 4
}
