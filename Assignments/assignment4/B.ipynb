{
 "cells": [
  {
   "cell_type": "code",
   "execution_count": 1,
   "id": "9932bbe6-da9f-4a74-a7f0-3ef44430e33e",
   "metadata": {},
   "outputs": [
    {
     "name": "stdin",
     "output_type": "stream",
     "text": [
      "Enter the elements of the list separated by spaces:  khoso kt yasir ali\n"
     ]
    },
    {
     "name": "stdout",
     "output_type": "stream",
     "text": [
      "Alternate elements: ['khoso', 'yasir']\n"
     ]
    }
   ],
   "source": [
    "# 1. Print Alternate Elements of a List\n",
    "lst = input(\"Enter the elements of the list separated by spaces: \").split()\n",
    "print(\"Alternate elements:\", lst[::2])"
   ]
  },
  {
   "cell_type": "code",
   "execution_count": 2,
   "id": "46012c81-af2b-41d0-b089-81408b355569",
   "metadata": {},
   "outputs": [
    {
     "name": "stdin",
     "output_type": "stream",
     "text": [
      "Enter the elements of the list separated by spaces:   khoso kt yasir ali\n"
     ]
    },
    {
     "name": "stdout",
     "output_type": "stream",
     "text": [
      "Reversed list: ['ali', 'yasir', 'kt', 'khoso']\n"
     ]
    }
   ],
   "source": [
    "# 2. Reverse a List Without Using reverse()\n",
    "lst = input(\"Enter the elements of the list separated by spaces: \").split()\n",
    "reversed_lst = lst[::-1]\n",
    "print(\"Reversed list:\", reversed_lst)\n"
   ]
  },
  {
   "cell_type": "code",
   "execution_count": 3,
   "id": "4fc6a663-3fd1-4ddd-8a67-546c7747da9d",
   "metadata": {},
   "outputs": [
    {
     "name": "stdin",
     "output_type": "stream",
     "text": [
      "Enter numbers separated by spaces:  56 67 78 98 34\n"
     ]
    },
    {
     "name": "stdout",
     "output_type": "stream",
     "text": [
      "Largest number: 98\n"
     ]
    }
   ],
   "source": [
    "\n",
    "# 3. Largest Number Without Using max()\n",
    "lst = list(map(int, input(\"Enter numbers separated by spaces: \").split()))\n",
    "largest = lst[0]\n",
    "for num in lst:\n",
    "    if num > largest:\n",
    "        largest = num\n",
    "print(\"Largest number:\", largest)\n",
    "\n"
   ]
  },
  {
   "cell_type": "code",
   "execution_count": 4,
   "id": "86c558d1-097c-4f7a-8375-3463810613bb",
   "metadata": {},
   "outputs": [
    {
     "name": "stdin",
     "output_type": "stream",
     "text": [
      "Enter the elements of the list separated by spaces:   khoso kt yasir ali\n"
     ]
    },
    {
     "name": "stdout",
     "output_type": "stream",
     "text": [
      "Rotated list: ['kt', 'yasir', 'ali', 'khoso']\n"
     ]
    }
   ],
   "source": [
    "# 4. Rotate Elements of a List\n",
    "lst = input(\"Enter the elements of the list separated by spaces: \").split()\n",
    "rotated_lst = lst[1:] + lst[:1]\n",
    "print(\"Rotated list:\", rotated_lst)\n",
    "\n"
   ]
  },
  {
   "cell_type": "code",
   "execution_count": 5,
   "id": "b3deeda8-0eac-482a-8405-54888d328ce6",
   "metadata": {},
   "outputs": [
    {
     "name": "stdin",
     "output_type": "stream",
     "text": [
      "Enter a string:  meowmeow\n",
      "Enter the word to delete:  e\n"
     ]
    },
    {
     "name": "stdout",
     "output_type": "stream",
     "text": [
      "Updated string: mowmow\n"
     ]
    }
   ],
   "source": [
    "# 5. Delete a Word from a String\n",
    "sentence = input(\"Enter a string: \")\n",
    "word_to_delete = input(\"Enter the word to delete: \")\n",
    "updated_sentence = sentence.replace(word_to_delete, \"\").strip()\n",
    "print(\"Updated string:\", updated_sentence)\n"
   ]
  },
  {
   "cell_type": "code",
   "execution_count": 6,
   "id": "5383c695-6e82-422d-ab38-a13dccd1ab07",
   "metadata": {},
   "outputs": [
    {
     "name": "stdin",
     "output_type": "stream",
     "text": [
      "Enter a date in mm/dd/yyyy format:  02/11/2005\n"
     ]
    },
    {
     "name": "stdout",
     "output_type": "stream",
     "text": [
      "February 11, 2005\n"
     ]
    }
   ],
   "source": [
    "# 6. Convert Date Format\n",
    "date_input = input(\"Enter a date in mm/dd/yyyy format: \")\n",
    "months = [\"January\", \"February\", \"March\", \"April\", \"May\", \"June\", \n",
    "          \"July\", \"August\", \"September\", \"October\", \"November\", \"December\"]\n",
    "month, day, year = map(int, date_input.split('/'))\n",
    "print(f\"{months[month - 1]} {day}, {year}\")\n",
    "\n"
   ]
  },
  {
   "cell_type": "code",
   "execution_count": 7,
   "id": "4a982605-5b4b-41c4-9de8-4d88426e30d3",
   "metadata": {},
   "outputs": [
    {
     "name": "stdin",
     "output_type": "stream",
     "text": [
      "Enter a sentence:  saylani bari tight jaga hay\n"
     ]
    },
    {
     "name": "stdout",
     "output_type": "stream",
     "text": [
      "Capitalized sentence: Saylani Bari Tight Jaga Hay\n"
     ]
    }
   ],
   "source": [
    "# 7. Capitalize Each Word\n",
    "def capitalize_words(sentence):\n",
    "    return \" \".join(word.capitalize() for word in sentence.split())\n",
    "\n",
    "sentence = input(\"Enter a sentence: \")\n",
    "print(\"Capitalized sentence:\", capitalize_words(sentence))\n",
    "\n"
   ]
  },
  {
   "cell_type": "code",
   "execution_count": 10,
   "id": "c820433c-7080-4ad9-b103-e25e0a7138df",
   "metadata": {},
   "outputs": [
    {
     "name": "stdin",
     "output_type": "stream",
     "text": [
      "Enter the number of rows:  2\n",
      "Enter the number of columns:  3\n"
     ]
    },
    {
     "name": "stdout",
     "output_type": "stream",
     "text": [
      "Enter the matrix row by row:\n"
     ]
    },
    {
     "name": "stdin",
     "output_type": "stream",
     "text": [
      "Enter row 1 elements separated by spaces:  2 3 4\n",
      "Enter row 2 elements separated by spaces:  7 5 3\n"
     ]
    },
    {
     "name": "stdout",
     "output_type": "stream",
     "text": [
      "Sum of row 1 = 9\n",
      "Sum of row 2 = 15\n"
     ]
    }
   ],
   "source": [
    "# 8.Input the number of rows and columns\n",
    "m = int(input(\"Enter the number of rows: \"))\n",
    "n = int(input(\"Enter the number of columns: \"))\n",
    "matrix = []\n",
    "print(\"Enter the matrix row by row:\")\n",
    "for i in range(m):\n",
    "    row = list(map(int, input(f\"Enter row {i+1} elements separated by spaces: \").split()))\n",
    "    matrix.append(row)\n",
    "for i in range(m):\n",
    "    row_sum = sum(matrix[i])\n",
    "    print(f\"Sum of row {i+1} = {row_sum}\")\n"
   ]
  },
  {
   "cell_type": "code",
   "execution_count": 13,
   "id": "3770bff2-608d-4b4b-862a-d972671c8d27",
   "metadata": {},
   "outputs": [
    {
     "name": "stdin",
     "output_type": "stream",
     "text": [
      "Enter the number of rows:  2\n",
      "Enter the number of columns:  2\n"
     ]
    },
    {
     "name": "stdout",
     "output_type": "stream",
     "text": [
      "Enter the first matrix row by row:\n"
     ]
    },
    {
     "name": "stdin",
     "output_type": "stream",
     "text": [
      "Enter row 1 elements separated by spaces:  2 5\n",
      "Enter row 2 elements separated by spaces:  7 5\n"
     ]
    },
    {
     "name": "stdout",
     "output_type": "stream",
     "text": [
      "Enter the second matrix row by row:\n"
     ]
    },
    {
     "name": "stdin",
     "output_type": "stream",
     "text": [
      "Enter row 1 elements separated by spaces:  4 7\n",
      "Enter row 2 elements separated by spaces:  4 8\n"
     ]
    },
    {
     "name": "stdout",
     "output_type": "stream",
     "text": [
      "Resultant matrix after addition:\n",
      "6 12\n",
      "11 13\n"
     ]
    }
   ],
   "source": [
    "# 9. Add Two Matrices of Size n×m\n",
    "# Input dimensions\n",
    "n = int(input(\"Enter the number of rows: \"))\n",
    "m = int(input(\"Enter the number of columns: \"))\n",
    "\n",
    "# Input first matrix\n",
    "print(\"Enter the first matrix row by row:\")\n",
    "matrix1 = []\n",
    "for i in range(n):\n",
    "    row = list(map(int, input(f\"Enter row {i+1} elements separated by spaces: \").split()))\n",
    "    matrix1.append(row)\n",
    "\n",
    "# Input second matrix\n",
    "print(\"Enter the second matrix row by row:\")\n",
    "matrix2 = []\n",
    "for i in range(n):\n",
    "    row = list(map(int, input(f\"Enter row {i+1} elements separated by spaces: \").split()))\n",
    "    matrix2.append(row)\n",
    "\n",
    "# Add matrices\n",
    "result = []\n",
    "for i in range(n):\n",
    "    row = [matrix1[i][j] + matrix2[i][j] for j in range(m)]\n",
    "    result.append(row)\n",
    "\n",
    "# Display result\n",
    "print(\"Resultant matrix after addition:\")\n",
    "for row in result:\n",
    "    print(\" \".join(map(str, row)))\n"
   ]
  },
  {
   "cell_type": "code",
   "execution_count": 15,
   "id": "24123a69-700c-4567-be2f-e5fe8e887534",
   "metadata": {},
   "outputs": [
    {
     "name": "stdin",
     "output_type": "stream",
     "text": [
      "Enter the number of rows for the first matrix:  2\n",
      "Enter the number of columns for the first matrix:  2\n"
     ]
    },
    {
     "name": "stdout",
     "output_type": "stream",
     "text": [
      "Enter the first matrix row by row:\n"
     ]
    },
    {
     "name": "stdin",
     "output_type": "stream",
     "text": [
      "Enter row 1 elements separated by spaces:  23 67\n",
      "Enter row 2 elements separated by spaces:  43 75\n",
      "Enter the number of rows for the second matrix:  2\n",
      "Enter the number of columns for the second matrix:  2\n"
     ]
    },
    {
     "name": "stdout",
     "output_type": "stream",
     "text": [
      "Enter the second matrix row by row:\n"
     ]
    },
    {
     "name": "stdin",
     "output_type": "stream",
     "text": [
      "Enter row 1 elements separated by spaces:  75 34\n",
      "Enter row 2 elements separated by spaces:  75 87\n"
     ]
    },
    {
     "name": "stdout",
     "output_type": "stream",
     "text": [
      "Resultant matrix after multiplication:\n",
      "6750 6611\n",
      "8850 7987\n"
     ]
    }
   ],
   "source": [
    "# 10. Multiply Two Matrices\n",
    "# Input dimensions for the first matrix\n",
    "n1 = int(input(\"Enter the number of rows for the first matrix: \"))\n",
    "m1 = int(input(\"Enter the number of columns for the first matrix: \"))\n",
    "\n",
    "# Input the first matrix\n",
    "print(\"Enter the first matrix row by row:\")\n",
    "matrix1 = []\n",
    "for i in range(n1):\n",
    "    row = list(map(int, input(f\"Enter row {i+1} elements separated by spaces: \").split()))\n",
    "    matrix1.append(row)\n",
    "\n",
    "# Input dimensions for the second matrix\n",
    "n2 = int(input(\"Enter the number of rows for the second matrix: \"))\n",
    "m2 = int(input(\"Enter the number of columns for the second matrix: \"))\n",
    "\n",
    "# Check if multiplication is possible\n",
    "if m1 != n2:\n",
    "    print(\"Matrix multiplication is not possible. Number of columns in the first matrix must equal the number of rows in the second matrix.\")\n",
    "else:\n",
    "    # Input the second matrix\n",
    "    print(\"Enter the second matrix row by row:\")\n",
    "    matrix2 = []\n",
    "    for i in range(n2):\n",
    "        row = list(map(int, input(f\"Enter row {i+1} elements separated by spaces: \").split()))\n",
    "        matrix2.append(row)\n",
    "\n",
    "    # Multiply matrices\n",
    "    result = [[0] * m2 for _ in range(n1)]\n",
    "    for i in range(n1):\n",
    "        for j in range(m2):\n",
    "            for k in range(m1):\n",
    "                result[i][j] += matrix1[i][k] * matrix2[k][j]\n",
    "\n",
    "    # Display result\n",
    "    print(\"Resultant matrix after multiplication:\")\n",
    "    for row in result:\n",
    "        print(\" \".join(map(str, row)))\n"
   ]
  },
  {
   "cell_type": "code",
   "execution_count": null,
   "id": "91c63da7-f874-482a-a6c8-3ccdc9319826",
   "metadata": {},
   "outputs": [],
   "source": []
  }
 ],
 "metadata": {
  "kernelspec": {
   "display_name": "Python 3 (ipykernel)",
   "language": "python",
   "name": "python3"
  },
  "language_info": {
   "codemirror_mode": {
    "name": "ipython",
    "version": 3
   },
   "file_extension": ".py",
   "mimetype": "text/x-python",
   "name": "python",
   "nbconvert_exporter": "python",
   "pygments_lexer": "ipython3",
   "version": "3.13.1"
  }
 },
 "nbformat": 4,
 "nbformat_minor": 5
}
