{
 "cells": [
  {
   "cell_type": "code",
   "execution_count": null,
   "id": "475ead9f-90cd-4001-9608-c70908fde5ce",
   "metadata": {},
   "outputs": [],
   "source": [
    "# 1. Count and display the number of vowels in a string\n",
    "from curses import putp\n",
    "from pickletools import string1\n",
    "putp(\"Enter a string: \")\n",
    "vowels = \"aeiouAEIOU\"\n",
    "count = sum(1 for char in string1 if char in vowels)\n",
    "print(f\"The number of vowels in the string is: {count}\")"
   ]
  },
  {
   "cell_type": "code",
   "execution_count": 5,
   "id": "e27c2020-37ec-427f-9d54-2270970f27ff",
   "metadata": {},
   "outputs": [
    {
     "name": "stdin",
     "output_type": "stream",
     "text": [
      "Enter a string:  hello whats up\n"
     ]
    },
    {
     "name": "stdout",
     "output_type": "stream",
     "text": [
      "Uppercase letters: 0\n",
      "Lowercase letters: 12\n",
      "Digits: 0\n",
      "Whitespace characters: 2\n"
     ]
    }
   ],
   "source": [
    "# 2. Count uppercase, lowercase, digits, and whitespace characters\n",
    "string = input(\"Enter a string: \")\n",
    "uppercase = sum(1 for char in string if char.isupper())\n",
    "lowercase = sum(1 for char in string if char.islower())\n",
    "digits = sum(1 for char in string if char.isdigit())\n",
    "whitespace = sum(1 for char in string if char.isspace())\n",
    "\n",
    "print(f\"Uppercase letters: {uppercase}\")\n",
    "print(f\"Lowercase letters: {lowercase}\")\n",
    "print(f\"Digits: {digits}\")\n",
    "print(f\"Whitespace characters: {whitespace}\")"
   ]
  },
  {
   "cell_type": "code",
   "execution_count": 6,
   "id": "798fa10a-8130-43e4-88a2-4bb08a486e49",
   "metadata": {},
   "outputs": [
    {
     "name": "stdin",
     "output_type": "stream",
     "text": [
      "Enter a string:  Hello whats Up\n"
     ]
    },
    {
     "name": "stdout",
     "output_type": "stream",
     "text": [
      "New string: pello whats UH\n"
     ]
    }
   ],
   "source": [
    "# 3. Exchange first and last characters of a string\n",
    "string = input(\"Enter a string: \")\n",
    "if len(string) < 2:\n",
    "    print(\"The string must have at least two characters.\")\n",
    "else:\n",
    "    new_string = string[-1] + string[1:-1] + string[0]\n",
    "    print(f\"New string: {new_string}\")\n",
    "\n"
   ]
  },
  {
   "cell_type": "code",
   "execution_count": 7,
   "id": "565bb521-d0e9-43a7-b058-e0c3ee48b4f4",
   "metadata": {},
   "outputs": [
    {
     "name": "stdin",
     "output_type": "stream",
     "text": [
      "Enter a string:  i boughta propety in egypt\n"
     ]
    },
    {
     "name": "stdout",
     "output_type": "stream",
     "text": [
      "Reversed string: tpyge ni yteporp athguob i\n"
     ]
    }
   ],
   "source": [
    "# 4. Reverse the string\n",
    "string = input(\"Enter a string: \")\n",
    "reversed_string = ''.join(string[i] for i in range(len(string)-1, -1, -1))\n",
    "print(f\"Reversed string: {reversed_string}\")\n",
    "\n"
   ]
  },
  {
   "cell_type": "code",
   "execution_count": 8,
   "id": "57fd5608-4b8a-46e8-8fba-5123158d9b7a",
   "metadata": {},
   "outputs": [
    {
     "name": "stdin",
     "output_type": "stream",
     "text": [
      "Enter a string:  zaitoon ashraf it park\n"
     ]
    },
    {
     "name": "stdout",
     "output_type": "stream",
     "text": [
      "New string: aitoon ashraf it parkz\n"
     ]
    }
   ],
   "source": [
    "# 5. Shift characters one position to the left\n",
    "string = input(\"Enter a string: \")\n",
    "if len(string) > 0:\n",
    "    shifted_string = string[1:] + string[0]\n",
    "    print(f\"New string: {shifted_string}\")\n",
    "else:\n",
    "    print(\"String cannot be empty.\")"
   ]
  },
  {
   "cell_type": "code",
   "execution_count": 9,
   "id": "94425c35-829f-403f-9444-01d2cf9d6c42",
   "metadata": {},
   "outputs": [
    {
     "name": "stdin",
     "output_type": "stream",
     "text": [
      "Enter your full name (first, middle, last):  mursaleen amanullah khoso\n"
     ]
    },
    {
     "name": "stdout",
     "output_type": "stream",
     "text": [
      "Initials: M. A. K.\n"
     ]
    }
   ],
   "source": [
    "# 6. Print initials of a name\n",
    "name = input(\"Enter your full name (first, middle, last): \")\n",
    "initials = \"\"\n",
    "for i, char in enumerate(name):\n",
    "    if i == 0 or name[i-1] == \" \":\n",
    "        initials += char.upper() + \". \"\n",
    "print(f\"Initials: {initials.strip()}\")"
   ]
  },
  {
   "cell_type": "code",
   "execution_count": 10,
   "id": "1fb10149-fa63-4af5-bd83-42fcf1fe9217",
   "metadata": {},
   "outputs": [
    {
     "name": "stdin",
     "output_type": "stream",
     "text": [
      "Enter a string:  zaitoon ashraf it park\n"
     ]
    },
    {
     "name": "stdout",
     "output_type": "stream",
     "text": [
      "The string is not a palindrome.\n"
     ]
    }
   ],
   "source": [
    "# 7. Check if the string is a palindrome\n",
    "string = input(\"Enter a string: \")\n",
    "is_palindrome = string == ''.join(string[i] for i in range(len(string)-1, -1, -1))\n",
    "if is_palindrome:\n",
    "    print(\"The string is a palindrome.\")\n",
    "else:\n",
    "    print(\"The string is not a palindrome.\")"
   ]
  },
  {
   "cell_type": "code",
   "execution_count": 11,
   "id": "e45fdabc-5931-4c03-b52b-b202c31c08b9",
   "metadata": {},
   "outputs": [
    {
     "name": "stdout",
     "output_type": "stream",
     "text": [
      "SHIFT\n",
      "HIFTS\n",
      "IFTSH\n",
      "FTSHI\n",
      "TSHIF\n"
     ]
    }
   ],
   "source": [
    "# 8. Display the shifting output\n",
    "string = \"SHIFT\"\n",
    "n = len(string)\n",
    "for i in range(n):\n",
    "    print(string[i:] + string[:i])\n"
   ]
  },
  {
   "cell_type": "code",
   "execution_count": 15,
   "id": "3f66b04c-b885-4147-a8fc-12951b891c17",
   "metadata": {},
   "outputs": [
    {
     "name": "stdin",
     "output_type": "stream",
     "text": [
      "Enter a password:  Saylani1\n"
     ]
    },
    {
     "name": "stdout",
     "output_type": "stream",
     "text": [
      "Password is valid.\n"
     ]
    }
   ],
   "source": [
    "# 9. Validate password based on requirements\n",
    "password = input(\"Enter a password: \")\n",
    "if len(password) < 8:\n",
    "    print(\"Password must be at least 8 characters long.\")\n",
    "elif not any(char.isupper() for char in password):\n",
    "    print(\"Password must contain at least one uppercase letter.\")\n",
    "elif not any(char.islower() for char in password):\n",
    "    print(\"Password must contain at least one lowercase letter.\")\n",
    "elif not any(char.isdigit() for char in password):\n",
    "    print(\"Password must contain at least one numeric digit.\")\n",
    "else:\n",
    "    print(\"Password is valid.\")"
   ]
  },
  {
   "cell_type": "code",
   "execution_count": null,
   "id": "27018ea1-aa19-445e-9882-771bacab73de",
   "metadata": {},
   "outputs": [],
   "source": []
  }
 ],
 "metadata": {
  "kernelspec": {
   "display_name": "Python 3 (ipykernel)",
   "language": "python",
   "name": "python3"
  },
  "language_info": {
   "codemirror_mode": {
    "name": "ipython",
    "version": 3
   },
   "file_extension": ".py",
   "mimetype": "text/x-python",
   "name": "python",
   "nbconvert_exporter": "python",
   "pygments_lexer": "ipython3",
   "version": "3.13.1"
  }
 },
 "nbformat": 4,
 "nbformat_minor": 5
}
