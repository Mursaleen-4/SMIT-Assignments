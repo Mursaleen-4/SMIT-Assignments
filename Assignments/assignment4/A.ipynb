{
 "cells": [
  {
   "cell_type": "code",
   "execution_count": 2,
   "id": "c8a0634a-0724-4db0-b15a-7a77864dff3c",
   "metadata": {},
   "outputs": [
    {
     "name": "stdin",
     "output_type": "stream",
     "text": [
      "Enter a number:  65\n"
     ]
    },
    {
     "name": "stdout",
     "output_type": "stream",
     "text": [
      "The number is Odd.\n"
     ]
    }
   ],
   "source": [
    "# 1. Even or Odd\n",
    "number = int(input(\"Enter a number: \"))\n",
    "if number % 2 == 0:\n",
    "    print(\"The number is Even.\")\n",
    "else:\n",
    "    print(\"The number is Odd.\")"
   ]
  },
  {
   "cell_type": "code",
   "execution_count": 6,
   "id": "e5c3637d-a98b-461d-8fb6-ce468eaeebd4",
   "metadata": {},
   "outputs": [
    {
     "name": "stdin",
     "output_type": "stream",
     "text": [
      "Enter your age:  20\n"
     ]
    },
    {
     "name": "stdout",
     "output_type": "stream",
     "text": [
      "You are eligible to vote.\n"
     ]
    }
   ],
   "source": [
    "# 2. Voting Eligibility\n",
    "age = int(input(\"Enter your age: \"))\n",
    "if age >= 18:\n",
    "    print(\"You are eligible to vote.\")\n",
    "else:\n",
    "    print(\"You are not eligible to vote yet.\")\n"
   ]
  },
  {
   "cell_type": "code",
   "execution_count": 7,
   "id": "2f5999e2-e8f1-4ec4-b2f3-db0512b1062a",
   "metadata": {},
   "outputs": [
    {
     "name": "stdin",
     "output_type": "stream",
     "text": [
      "Enter the first number:  34\n",
      "Enter the second number:  23\n"
     ]
    },
    {
     "name": "stdout",
     "output_type": "stream",
     "text": [
      "The largest number is 34.\n"
     ]
    }
   ],
   "source": [
    "# 3. Largest of Two Numbers\n",
    "num1 = int(input(\"Enter the first number: \"))\n",
    "num2 = int(input(\"Enter the second number: \"))\n",
    "if num1 > num2:\n",
    "    print(f\"The largest number is {num1}.\")\n",
    "elif num1 < num2:\n",
    "    print(f\"The largest number is {num2}.\")\n",
    "else:\n",
    "    print(\"Both numbers are equal.\")"
   ]
  },
  {
   "cell_type": "code",
   "execution_count": 8,
   "id": "b6838515-bd14-4d78-92d2-f830e38a31e0",
   "metadata": {},
   "outputs": [
    {
     "name": "stdin",
     "output_type": "stream",
     "text": [
      "Enter a number:  0\n"
     ]
    },
    {
     "name": "stdout",
     "output_type": "stream",
     "text": [
      "Zero\n"
     ]
    }
   ],
   "source": [
    "# 4. Positive, Negative, or Zero\n",
    "number = float(input(\"Enter a number: \"))\n",
    "if number > 0:\n",
    "    print(\"Positive\")\n",
    "elif number < 0:\n",
    "    print(\"Negative\")\n",
    "else:\n",
    "    print(\"Zero\")"
   ]
  },
  {
   "cell_type": "code",
   "execution_count": 9,
   "id": "bf1195d5-36cc-487f-b6b6-184474c19050",
   "metadata": {},
   "outputs": [
    {
     "name": "stdin",
     "output_type": "stream",
     "text": [
      "Enter your age:  20\n"
     ]
    },
    {
     "name": "stdout",
     "output_type": "stream",
     "text": [
      "Adult\n"
     ]
    }
   ],
   "source": [
    "# 5. Age Group\n",
    "age = int(input(\"Enter your age: \"))\n",
    "if 0 <= age <= 12:\n",
    "    print(\"Child\")\n",
    "elif 13 <= age <= 19:\n",
    "    print(\"Teenager\")\n",
    "elif 20 <= age <= 59:\n",
    "    print(\"Adult\")\n",
    "elif age >= 60:\n",
    "    print(\"Senior Citizen\")\n",
    "else:\n",
    "    print(\"Invalid age entered.\")\n"
   ]
  },
  {
   "cell_type": "code",
   "execution_count": 10,
   "id": "7af01ebd-350d-4ad2-9520-ca2a324413bb",
   "metadata": {},
   "outputs": [
    {
     "name": "stdin",
     "output_type": "stream",
     "text": [
      "Enter a number (1-7):  5\n"
     ]
    },
    {
     "name": "stdout",
     "output_type": "stream",
     "text": [
      "The day is Thursday.\n"
     ]
    }
   ],
   "source": [
    "# 6. Day of the Week\n",
    "day_number = int(input(\"Enter a number (1-7): \"))\n",
    "days = {1: \"Sunday\", 2: \"Monday\", 3: \"Tuesday\", 4: \"Wednesday\", 5: \"Thursday\", 6: \"Friday\", 7: \"Saturday\"}\n",
    "if day_number in days:\n",
    "    print(f\"The day is {days[day_number]}.\")\n",
    "else:\n",
    "    print(\"Invalid input. Please enter a number between 1 and 7.\")"
   ]
  },
  {
   "cell_type": "code",
   "execution_count": null,
   "id": "b5449bb1-4dfb-4cfb-8688-3866cc3d9960",
   "metadata": {},
   "outputs": [],
   "source": [
    "# 7. BMI Calculator\n",
    "weight = float(input(\"Enter your weight (kg): \"))\n",
    "height = float(input(\"Enter your height (m): \"))\n",
    "bmi = weight / (height ** 2)\n",
    "\n",
    "if bmi < 18.5:\n",
    "    category = \"Underweight\"\n",
    "elif 18.5 <= bmi <= 24.9:\n",
    "    category = \"Normal weight\"\n",
    "elif 25 <= bmi <= 29.9:\n",
    "    category = \"Overweight\"\n",
    "else:\n",
    "    category = \"Obesity\"\n",
    "\n",
    "print(f\"Your BMI is {bmi:.2f}. Category: {category}\")\n"
   ]
  },
  {
   "cell_type": "code",
   "execution_count": null,
   "id": "95e954b6-9613-484f-8cde-d35739a0d94b",
   "metadata": {},
   "outputs": [],
   "source": [
    "# 8. Grade Based on Average Marks\n",
    "marks1 = float(input(\"Enter marks for subject 1: \"))\n",
    "marks2 = float(input(\"Enter marks for subject 2: \"))\n",
    "marks3 = float(input(\"Enter marks for subject 3: \"))\n",
    "average = (marks1 + marks2 + marks3) / 3\n",
    "\n",
    "if 90 <= average <= 100:\n",
    "    grade = \"A\"\n",
    "elif 80 <= average <= 89:\n",
    "    grade = \"B\"\n",
    "elif 70 <= average <= 79:\n",
    "    grade = \"C\"\n",
    "elif 60 <= average <= 69:\n",
    "    grade = \"D\"\n",
    "else:\n",
    "    grade = \"F\"\n",
    "\n",
    "print(f\"Average: {average:.2f}, Grade: {grade}\")"
   ]
  },
  {
   "cell_type": "code",
   "execution_count": null,
   "id": "d867dd60-13ff-428f-832d-5bbeca18e99b",
   "metadata": {},
   "outputs": [],
   "source": [
    "# 9. Roots of a Quadratic Equation\n",
    "import math\n",
    "\n",
    "a = float(input(\"Enter the coefficient a: \"))\n",
    "b = float(input(\"Enter the coefficient b: \"))\n",
    "c = float(input(\"Enter the constant c: \"))\n",
    "\n",
    "discriminant = b**2 - 4*a*c\n",
    "\n",
    "if discriminant > 0:\n",
    "    root1 = (-b + math.sqrt(discriminant)) / (2*a)\n",
    "    root2 = (-b - math.sqrt(discriminant)) / (2*a)\n",
    "    print(f\"Two real roots: {root1:.2f}, {root2:.2f}\")\n",
    "elif discriminant == 0:\n",
    "    root = -b / (2*a)\n",
    "    print(f\"One real root: {root:.2f}\")\n",
    "else:\n",
    "    real_part = -b / (2*a)\n",
    "    imaginary_part = math.sqrt(-discriminant) / (2*a)\n",
    "    print(f\"Two complex roots: {real_part:.2f} ± {imaginary_part:.2f}i\")"
   ]
  },
  {
   "cell_type": "code",
   "execution_count": null,
   "id": "6872b0ce-ae83-476c-aa2a-d4ee9f73c515",
   "metadata": {},
   "outputs": [],
   "source": [
    "# 10. Sort Three Numbers\n",
    "nums = [float(input(f\"Enter number {i+1}: \")) for i in range(3)]\n",
    "nums.sort()\n",
    "print(\"Sorted numbers:\", nums)"
   ]
  },
  {
   "cell_type": "code",
   "execution_count": null,
   "id": "843fa461-ccdb-4383-9d1c-8f1131db8a4d",
   "metadata": {},
   "outputs": [],
   "source": [
    "# 11. Largest of Three Numbers\n",
    "num1 = int(input(\"Enter the first number: \"))\n",
    "num2 = int(input(\"Enter the second number: \"))\n",
    "num3 = int(input(\"Enter the third number: \"))\n",
    "largest = max(num1, num2, num3)\n",
    "print(f\"The largest number is {largest}.\")"
   ]
  },
  {
   "cell_type": "code",
   "execution_count": null,
   "id": "e3831078-a29a-46c3-aec9-520f378cd820",
   "metadata": {},
   "outputs": [],
   "source": [
    "# 12. Vowel or Consonant\n",
    "char = input(\"Enter a character: \").lower()\n",
    "if char in \"aeiou\":\n",
    "    print(\"Vowel\")\n",
    "elif char.isalpha():\n",
    "    print(\"Consonant\")\n",
    "else:\n",
    "    print(\"Invalid input\")"
   ]
  },
  {
   "cell_type": "code",
   "execution_count": 3,
   "id": "565b99f7-7118-4157-b260-75b771efd194",
   "metadata": {},
   "outputs": [
    {
     "name": "stdin",
     "output_type": "stream",
     "text": [
      "Enter a year:  2005\n"
     ]
    },
    {
     "name": "stdout",
     "output_type": "stream",
     "text": [
      "2005 is NOT a Leap Year.\n"
     ]
    }
   ],
   "source": [
    "# 13. Leap Year Check\n",
    "year = int(input(\"Enter a year: \"))\n",
    "if (year % 4 == 0 and year % 100 != 0) or (year % 400 == 0):\n",
    "    print(f\"{year} is a Leap Year.\")\n",
    "else:\n",
    "    print(f\"{year} is NOT a Leap Year.\")"
   ]
  },
  {
   "cell_type": "code",
   "execution_count": 4,
   "id": "d02fb895-095a-4d82-b1dc-508e141b27da",
   "metadata": {},
   "outputs": [
    {
     "name": "stdin",
     "output_type": "stream",
     "text": [
      "Enter the number of calls:  5\n"
     ]
    },
    {
     "name": "stdout",
     "output_type": "stream",
     "text": [
      "Total bill: Rs. 200.00\n"
     ]
    }
   ],
   "source": [
    "# 14. Telephone Bill\n",
    "calls = int(input(\"Enter the number of calls: \"))\n",
    "bill = 200\n",
    "\n",
    "if calls > 100:\n",
    "    calls -= 100\n",
    "    if calls <= 50:\n",
    "        bill += calls * 0.60\n",
    "    else:\n",
    "        bill += 50 * 0.60\n",
    "        calls -= 50\n",
    "        if calls <= 50:\n",
    "            bill += calls * 0.50\n",
    "        else:\n",
    "            bill += 50 * 0.50\n",
    "            calls -= 50\n",
    "            bill += calls * 0.40\n",
    "\n",
    "print(f\"Total bill: Rs. {bill:.2f}\")"
   ]
  },
  {
   "cell_type": "code",
   "execution_count": null,
   "id": "12769ba7-17a0-4a0d-9504-e1cca492d1bf",
   "metadata": {},
   "outputs": [],
   "source": []
  }
 ],
 "metadata": {
  "kernelspec": {
   "display_name": "Python 3 (ipykernel)",
   "language": "python",
   "name": "python3"
  },
  "language_info": {
   "codemirror_mode": {
    "name": "ipython",
    "version": 3
   },
   "file_extension": ".py",
   "mimetype": "text/x-python",
   "name": "python",
   "nbconvert_exporter": "python",
   "pygments_lexer": "ipython3",
   "version": "3.13.1"
  }
 },
 "nbformat": 4,
 "nbformat_minor": 5
}
